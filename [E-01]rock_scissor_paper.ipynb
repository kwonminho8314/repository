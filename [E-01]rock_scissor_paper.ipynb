{
 "cells": [
  {
   "cell_type": "code",
   "execution_count": 1,
   "id": "3e07784b",
   "metadata": {},
   "outputs": [],
   "source": [
    "import tensorflow as tf\n",
    "from tensorflow import keras\n",
    "\n",
    "import numpy as np\n",
    "import matplotlib.pyplot as plt\n",
    "import os\n",
    "\n",
    "from PIL import Image\n",
    "import glob"
   ]
  },
  {
   "cell_type": "markdown",
   "id": "ccf461ee",
   "metadata": {},
   "source": [
    "# 트레이닝 데이터 불러오기 및 가공"
   ]
  },
  {
   "cell_type": "code",
   "execution_count": 2,
   "id": "41b94bc5",
   "metadata": {},
   "outputs": [
    {
     "name": "stdout",
     "output_type": "stream",
     "text": [
      "2711  images to be resized.\n",
      "2711  images resized.\n",
      "가위 이미지 resize 완료!\n"
     ]
    }
   ],
   "source": [
    "def resize_images(img_path):\n",
    "\timages=glob.glob(img_path + \"/*.jpg\")  \n",
    "    \n",
    "\tprint(len(images), \" images to be resized.\")\n",
    "\n",
    "\ttarget_size=(28,28)\n",
    "\tfor img in images:\n",
    "\t\told_img=Image.open(img)\n",
    "\t\tnew_img=old_img.resize(target_size,Image.ANTIALIAS)\n",
    "\t\tnew_img.save(img, \"JPEG\")\n",
    "    \n",
    "\tprint(len(images), \" images resized.\")\n",
    "\t\n",
    "image_dir_path = os.getenv(\"HOME\") + \"/aiffel/rcp/scissor_tr\"\n",
    "resize_images(image_dir_path)\n",
    "\n",
    "print(\"가위 이미지 resize 완료!\")"
   ]
  },
  {
   "cell_type": "code",
   "execution_count": 3,
   "id": "c88fe67c",
   "metadata": {},
   "outputs": [
    {
     "name": "stdout",
     "output_type": "stream",
     "text": [
      "2708  images to be resized.\n",
      "2708  images resized.\n",
      "바위 이미지 resize 완료!\n"
     ]
    }
   ],
   "source": [
    "image_dir_path = os.getenv(\"HOME\") + \"/aiffel/rcp/rock_tr\"\n",
    "resize_images(image_dir_path)\n",
    "\n",
    "print(\"바위 이미지 resize 완료!\")"
   ]
  },
  {
   "cell_type": "code",
   "execution_count": 4,
   "id": "6b1561ae",
   "metadata": {},
   "outputs": [
    {
     "name": "stdout",
     "output_type": "stream",
     "text": [
      "2704  images to be resized.\n",
      "2704  images resized.\n",
      "보 이미지 resize 완료!\n"
     ]
    }
   ],
   "source": [
    "image_dir_path = os.getenv(\"HOME\") + \"/aiffel/rcp/paper_tr\"\n",
    "resize_images(image_dir_path)\n",
    "\n",
    "print(\"보 이미지 resize 완료!\")"
   ]
  },
  {
   "cell_type": "markdown",
   "id": "d610868c",
   "metadata": {},
   "source": [
    "# 데이터 라벨링"
   ]
  },
  {
   "cell_type": "code",
   "execution_count": 5,
   "id": "5959ecf2",
   "metadata": {},
   "outputs": [
    {
     "name": "stdout",
     "output_type": "stream",
     "text": [
      "학습데이터(x_train)의 이미지 개수는 8123 입니다.\n",
      "x_train shape: (8123, 28, 28, 3)\n",
      "y_train shape: (8123,)\n"
     ]
    }
   ],
   "source": [
    "def load_data(img_path, number_of_data=8123):  \n",
    "\n",
    "    img_size=28\n",
    "    color=3\n",
    "    #이미지 데이터와 라벨(가위 : 0, 바위 : 1, 보 : 2) 데이터를 담을 행렬(matrix) 영역을 생성합니다.\n",
    "    imgs=np.zeros(number_of_data*img_size*img_size*color,dtype=np.int32).reshape(number_of_data,img_size,img_size,color)\n",
    "    labels=np.zeros(number_of_data,dtype=np.int32)\n",
    "\n",
    "    idx=0\n",
    "    for file in glob.iglob(img_path+'/scissor_tr/*.jpg'):\n",
    "        img = np.array(Image.open(file),dtype=np.int32)\n",
    "        imgs[idx,:,:,:]=img    # 데이터 영역에 이미지 행렬을 복사\n",
    "        labels[idx]=0   # 가위 : 0\n",
    "        idx=idx+1\n",
    "\n",
    "    for file in glob.iglob(img_path+'/rock_tr/*.jpg'):\n",
    "        img = np.array(Image.open(file),dtype=np.int32)\n",
    "        imgs[idx,:,:,:]=img    # 데이터 영역에 이미지 행렬을 복사\n",
    "        labels[idx]=1   # 바위 : 1\n",
    "        idx=idx+1  \n",
    "    \n",
    "    for file in glob.iglob(img_path+'/paper_tr/*.jpg'):\n",
    "        img = np.array(Image.open(file),dtype=np.int32)\n",
    "        imgs[idx,:,:,:]=img    # 데이터 영역에 이미지 행렬을 복사\n",
    "        labels[idx]=2   # 보 : 2\n",
    "        idx=idx+1\n",
    "        \n",
    "    print(\"학습데이터(x_train)의 이미지 개수는\", idx,\"입니다.\")\n",
    "    return imgs, labels\n",
    "\n",
    "image_dir_path = os.getenv(\"HOME\") + \"/aiffel/rcp\"\n",
    "(x_train, y_train)=load_data(image_dir_path)\n",
    "x_train_norm = x_train/255.0   # 입력은 0~1 사이의 값으로 정규화\n",
    "\n",
    "print(\"x_train shape: {}\".format(x_train.shape))\n",
    "print(\"y_train shape: {}\".format(y_train.shape))"
   ]
  },
  {
   "cell_type": "markdown",
   "id": "96dd02fb",
   "metadata": {},
   "source": [
    "# 데이터 확인 해보기"
   ]
  },
  {
   "cell_type": "code",
   "execution_count": 6,
   "id": "5d6cda67",
   "metadata": {},
   "outputs": [
    {
     "name": "stdout",
     "output_type": "stream",
     "text": [
      "라벨:  0\n"
     ]
    },
    {
     "data": {
      "image/png": "[encoded data removed]",
      "text/plain": [
       "<Figure size 432x288 with 1 Axes>"
      ]
     },
     "metadata": {
      "needs_background": "light"
     },
     "output_type": "display_data"
    }
   ],
   "source": [
    "plt.imshow(x_train[0])\n",
    "print('라벨: ', y_train[0])"
   ]
  },
  {
   "cell_type": "markdown",
   "id": "29ddc05c",
   "metadata": {},
   "source": [
    "# 모델 정의"
   ]
  },
  {
   "cell_type": "code",
   "execution_count": 7,
   "id": "f6217905",
   "metadata": {},
   "outputs": [
    {
     "name": "stdout",
     "output_type": "stream",
     "text": [
      "Model: \"sequential\"\n",
      "_________________________________________________________________\n",
      "Layer (type)                 Output Shape              Param #   \n",
      "=================================================================\n",
      "conv2d (Conv2D)              (None, 26, 26, 128)       3584      \n",
      "_________________________________________________________________\n",
      "max_pooling2d (MaxPooling2D) (None, 13, 13, 128)       0         \n",
      "_________________________________________________________________\n",
      "conv2d_1 (Conv2D)            (None, 11, 11, 512)       590336    \n",
      "_________________________________________________________________\n",
      "max_pooling2d_1 (MaxPooling2 (None, 5, 5, 512)         0         \n",
      "_________________________________________________________________\n",
      "flatten (Flatten)            (None, 12800)             0         \n",
      "_________________________________________________________________\n",
      "dense (Dense)                (None, 512)               6554112   \n",
      "_________________________________________________________________\n",
      "dropout (Dropout)            (None, 512)               0         \n",
      "_________________________________________________________________\n",
      "dense_1 (Dense)              (None, 512)               262656    \n",
      "_________________________________________________________________\n",
      "dropout_1 (Dropout)          (None, 512)               0         \n",
      "_________________________________________________________________\n",
      "dense_2 (Dense)              (None, 3)                 1539      \n",
      "=================================================================\n",
      "Total params: 7,412,227\n",
      "Trainable params: 7,412,227\n",
      "Non-trainable params: 0\n",
      "_________________________________________________________________\n"
     ]
    }
   ],
   "source": [
    "model = keras.models.Sequential()\n",
    "model.add(keras.layers.Conv2D(128, (3,3), activation = 'relu', input_shape = (28,28,3)))\n",
    "model.add(keras.layers.MaxPool2D(2,2))\n",
    "model.add(keras.layers.Conv2D(512, (3,3), activation = 'relu'))\n",
    "model.add(keras.layers.MaxPool2D(2,2))\n",
    "model.add(keras.layers.Flatten())\n",
    "model.add(keras.layers.Dense(512, activation = 'relu'))\n",
    "model.add(keras.layers.Dropout(0.8))\n",
    "model.add(keras.layers.Dense(512, activation = 'relu'))\n",
    "model.add(keras.layers.Dropout(0.8))\n",
    "model.add(keras.layers.Dense(3, activation = 'softmax'))\n",
    "\n",
    "model.summary()"
   ]
  },
  {
   "cell_type": "markdown",
   "id": "89319130",
   "metadata": {},
   "source": [
    "# 모델 학습"
   ]
  },
  {
   "cell_type": "code",
   "execution_count": 8,
   "id": "f7b16a7a",
   "metadata": {},
   "outputs": [
    {
     "name": "stdout",
     "output_type": "stream",
     "text": [
      "Epoch 1/100\n",
      "64/64 [==============================] - 4s 18ms/step - loss: 5.1335 - accuracy: 0.3629\n",
      "Epoch 2/100\n",
      "64/64 [==============================] - 1s 15ms/step - loss: 0.9429 - accuracy: 0.5084\n",
      "Epoch 3/100\n",
      "64/64 [==============================] - 1s 15ms/step - loss: 0.7556 - accuracy: 0.6474\n",
      "Epoch 4/100\n",
      "64/64 [==============================] - 1s 15ms/step - loss: 0.5839 - accuracy: 0.7500\n",
      "Epoch 5/100\n",
      "64/64 [==============================] - 1s 15ms/step - loss: 0.4703 - accuracy: 0.8054\n",
      "Epoch 6/100\n",
      "64/64 [==============================] - 1s 15ms/step - loss: 0.4111 - accuracy: 0.8289\n",
      "Epoch 7/100\n",
      "64/64 [==============================] - 1s 15ms/step - loss: 0.3297 - accuracy: 0.8699\n",
      "Epoch 8/100\n",
      "64/64 [==============================] - 1s 15ms/step - loss: 0.2546 - accuracy: 0.9053\n",
      "Epoch 9/100\n",
      "64/64 [==============================] - 1s 15ms/step - loss: 0.2318 - accuracy: 0.9159\n",
      "Epoch 10/100\n",
      "64/64 [==============================] - 1s 15ms/step - loss: 0.2295 - accuracy: 0.9173\n",
      "Epoch 11/100\n",
      "64/64 [==============================] - 1s 15ms/step - loss: 0.2553 - accuracy: 0.9080\n",
      "Epoch 12/100\n",
      "64/64 [==============================] - 1s 15ms/step - loss: 0.1786 - accuracy: 0.9324\n",
      "Epoch 13/100\n",
      "64/64 [==============================] - 1s 15ms/step - loss: 0.1974 - accuracy: 0.9296\n",
      "Epoch 14/100\n",
      "64/64 [==============================] - 1s 15ms/step - loss: 0.1985 - accuracy: 0.9259\n",
      "Epoch 15/100\n",
      "64/64 [==============================] - 1s 15ms/step - loss: 0.1561 - accuracy: 0.9418\n",
      "Epoch 16/100\n",
      "64/64 [==============================] - 1s 15ms/step - loss: 0.1381 - accuracy: 0.9479\n",
      "Epoch 17/100\n",
      "64/64 [==============================] - 1s 15ms/step - loss: 0.1349 - accuracy: 0.9517\n",
      "Epoch 18/100\n",
      "64/64 [==============================] - 1s 15ms/step - loss: 0.1074 - accuracy: 0.9610\n",
      "Epoch 19/100\n",
      "64/64 [==============================] - 1s 15ms/step - loss: 0.1120 - accuracy: 0.9606\n",
      "Epoch 20/100\n",
      "64/64 [==============================] - 1s 15ms/step - loss: 0.0937 - accuracy: 0.9711\n",
      "Epoch 21/100\n",
      "64/64 [==============================] - 1s 15ms/step - loss: 0.1069 - accuracy: 0.9621\n",
      "Epoch 22/100\n",
      "64/64 [==============================] - 1s 15ms/step - loss: 0.1101 - accuracy: 0.9629\n",
      "Epoch 23/100\n",
      "64/64 [==============================] - 1s 15ms/step - loss: 0.1190 - accuracy: 0.9613\n",
      "Epoch 24/100\n",
      "64/64 [==============================] - 1s 15ms/step - loss: 0.1181 - accuracy: 0.9610\n",
      "Epoch 25/100\n",
      "64/64 [==============================] - 1s 15ms/step - loss: 0.1312 - accuracy: 0.9580\n",
      "Epoch 26/100\n",
      "64/64 [==============================] - 1s 15ms/step - loss: 0.0909 - accuracy: 0.9689\n",
      "Epoch 27/100\n",
      "64/64 [==============================] - 1s 15ms/step - loss: 0.0911 - accuracy: 0.9696\n",
      "Epoch 28/100\n",
      "64/64 [==============================] - 1s 15ms/step - loss: 0.1200 - accuracy: 0.9620\n",
      "Epoch 29/100\n",
      "64/64 [==============================] - 1s 15ms/step - loss: 0.1209 - accuracy: 0.9618\n",
      "Epoch 30/100\n",
      "64/64 [==============================] - 1s 15ms/step - loss: 0.0942 - accuracy: 0.9705\n",
      "Epoch 31/100\n",
      "64/64 [==============================] - 1s 15ms/step - loss: 0.0838 - accuracy: 0.9743\n",
      "Epoch 32/100\n",
      "64/64 [==============================] - 1s 15ms/step - loss: 0.0655 - accuracy: 0.9796\n",
      "Epoch 33/100\n",
      "64/64 [==============================] - 1s 15ms/step - loss: 0.0968 - accuracy: 0.9703\n",
      "Epoch 34/100\n",
      "64/64 [==============================] - 1s 15ms/step - loss: 0.0767 - accuracy: 0.9761\n",
      "Epoch 35/100\n",
      "64/64 [==============================] - 1s 16ms/step - loss: 0.0647 - accuracy: 0.9799\n",
      "Epoch 36/100\n",
      "64/64 [==============================] - 1s 16ms/step - loss: 0.0688 - accuracy: 0.9787\n",
      "Epoch 37/100\n",
      "64/64 [==============================] - 1s 15ms/step - loss: 0.0776 - accuracy: 0.9759\n",
      "Epoch 38/100\n",
      "64/64 [==============================] - 1s 15ms/step - loss: 0.0720 - accuracy: 0.9794\n",
      "Epoch 39/100\n",
      "64/64 [==============================] - 1s 15ms/step - loss: 0.0853 - accuracy: 0.9729\n",
      "Epoch 40/100\n",
      "64/64 [==============================] - 1s 15ms/step - loss: 0.0838 - accuracy: 0.9745\n",
      "Epoch 41/100\n",
      "64/64 [==============================] - 1s 15ms/step - loss: 0.0709 - accuracy: 0.9771\n",
      "Epoch 42/100\n",
      "64/64 [==============================] - 1s 15ms/step - loss: 0.0653 - accuracy: 0.9780\n",
      "Epoch 43/100\n",
      "64/64 [==============================] - 1s 15ms/step - loss: 0.0470 - accuracy: 0.9866\n",
      "Epoch 44/100\n",
      "64/64 [==============================] - 1s 15ms/step - loss: 0.0537 - accuracy: 0.9825\n",
      "Epoch 45/100\n",
      "64/64 [==============================] - 1s 15ms/step - loss: 0.0538 - accuracy: 0.9825\n",
      "Epoch 46/100\n",
      "64/64 [==============================] - 1s 15ms/step - loss: 0.0608 - accuracy: 0.9812\n",
      "Epoch 47/100\n",
      "64/64 [==============================] - 1s 15ms/step - loss: 0.0736 - accuracy: 0.9765\n",
      "Epoch 48/100\n",
      "64/64 [==============================] - 1s 15ms/step - loss: 0.0993 - accuracy: 0.9722\n",
      "Epoch 49/100\n",
      "64/64 [==============================] - 1s 15ms/step - loss: 0.0884 - accuracy: 0.9761\n",
      "Epoch 50/100\n",
      "64/64 [==============================] - 1s 15ms/step - loss: 0.1024 - accuracy: 0.9723\n",
      "Epoch 51/100\n",
      "64/64 [==============================] - 1s 15ms/step - loss: 0.0619 - accuracy: 0.9833\n",
      "Epoch 52/100\n",
      "64/64 [==============================] - 1s 15ms/step - loss: 0.0409 - accuracy: 0.9883\n",
      "Epoch 53/100\n",
      "64/64 [==============================] - 1s 15ms/step - loss: 0.0684 - accuracy: 0.9819\n",
      "Epoch 54/100\n",
      "64/64 [==============================] - 1s 15ms/step - loss: 0.0561 - accuracy: 0.9837\n",
      "Epoch 55/100\n",
      "64/64 [==============================] - 1s 15ms/step - loss: 0.0628 - accuracy: 0.9840\n",
      "Epoch 56/100\n",
      "64/64 [==============================] - 1s 15ms/step - loss: 0.0656 - accuracy: 0.9825\n",
      "Epoch 57/100\n",
      "64/64 [==============================] - 1s 15ms/step - loss: 0.0438 - accuracy: 0.9862\n",
      "Epoch 58/100\n",
      "64/64 [==============================] - 1s 15ms/step - loss: 0.0915 - accuracy: 0.9764\n",
      "Epoch 59/100\n",
      "64/64 [==============================] - 1s 15ms/step - loss: 0.0481 - accuracy: 0.9860\n",
      "Epoch 60/100\n",
      "64/64 [==============================] - 1s 15ms/step - loss: 0.0383 - accuracy: 0.9888\n",
      "Epoch 61/100\n",
      "64/64 [==============================] - 1s 15ms/step - loss: 0.0528 - accuracy: 0.9855\n",
      "Epoch 62/100\n",
      "64/64 [==============================] - 1s 15ms/step - loss: 0.0567 - accuracy: 0.9831\n",
      "Epoch 63/100\n",
      "64/64 [==============================] - 1s 15ms/step - loss: 0.0357 - accuracy: 0.9898\n",
      "Epoch 64/100\n",
      "64/64 [==============================] - 1s 15ms/step - loss: 0.0336 - accuracy: 0.9909\n",
      "Epoch 65/100\n",
      "64/64 [==============================] - 1s 15ms/step - loss: 0.0530 - accuracy: 0.9858\n",
      "Epoch 66/100\n",
      "64/64 [==============================] - 1s 15ms/step - loss: 0.0521 - accuracy: 0.9845\n",
      "Epoch 67/100\n",
      "64/64 [==============================] - 1s 15ms/step - loss: 0.0476 - accuracy: 0.9871\n",
      "Epoch 68/100\n",
      "64/64 [==============================] - 1s 15ms/step - loss: 0.0674 - accuracy: 0.9820\n",
      "Epoch 69/100\n",
      "64/64 [==============================] - 1s 15ms/step - loss: 0.0345 - accuracy: 0.9898\n",
      "Epoch 70/100\n",
      "64/64 [==============================] - 1s 15ms/step - loss: 0.0399 - accuracy: 0.9873\n",
      "Epoch 71/100\n",
      "64/64 [==============================] - 1s 15ms/step - loss: 0.0468 - accuracy: 0.9894\n",
      "Epoch 72/100\n",
      "64/64 [==============================] - 1s 15ms/step - loss: 0.0326 - accuracy: 0.9899\n",
      "Epoch 73/100\n",
      "64/64 [==============================] - 1s 15ms/step - loss: 0.0426 - accuracy: 0.9871\n",
      "Epoch 74/100\n",
      "64/64 [==============================] - 1s 15ms/step - loss: 0.0479 - accuracy: 0.9887\n",
      "Epoch 75/100\n",
      "64/64 [==============================] - 1s 15ms/step - loss: 0.0401 - accuracy: 0.9894\n",
      "Epoch 76/100\n",
      "64/64 [==============================] - 1s 15ms/step - loss: 0.0588 - accuracy: 0.9826\n",
      "Epoch 77/100\n",
      "64/64 [==============================] - 1s 15ms/step - loss: 0.0467 - accuracy: 0.9879\n",
      "Epoch 78/100\n",
      "64/64 [==============================] - 1s 15ms/step - loss: 0.0527 - accuracy: 0.9870\n",
      "Epoch 79/100\n",
      "64/64 [==============================] - 1s 15ms/step - loss: 0.0650 - accuracy: 0.9826\n",
      "Epoch 80/100\n",
      "64/64 [==============================] - 1s 15ms/step - loss: 0.0531 - accuracy: 0.9887\n",
      "Epoch 81/100\n",
      "64/64 [==============================] - 1s 15ms/step - loss: 0.0447 - accuracy: 0.9892\n",
      "Epoch 82/100\n",
      "64/64 [==============================] - 1s 15ms/step - loss: 0.0400 - accuracy: 0.9906\n",
      "Epoch 83/100\n",
      "64/64 [==============================] - 1s 15ms/step - loss: 0.0359 - accuracy: 0.9899\n",
      "Epoch 84/100\n",
      "64/64 [==============================] - 1s 15ms/step - loss: 0.0533 - accuracy: 0.9852\n",
      "Epoch 85/100\n",
      "64/64 [==============================] - 1s 15ms/step - loss: 0.0331 - accuracy: 0.9893\n",
      "Epoch 86/100\n",
      "64/64 [==============================] - 1s 15ms/step - loss: 0.0371 - accuracy: 0.9897\n",
      "Epoch 87/100\n",
      "64/64 [==============================] - 1s 15ms/step - loss: 0.0387 - accuracy: 0.9897\n",
      "Epoch 88/100\n",
      "64/64 [==============================] - 1s 15ms/step - loss: 0.0686 - accuracy: 0.9845\n",
      "Epoch 89/100\n",
      "64/64 [==============================] - 1s 15ms/step - loss: 0.0792 - accuracy: 0.9793\n",
      "Epoch 90/100\n",
      "64/64 [==============================] - 1s 15ms/step - loss: 0.0717 - accuracy: 0.9835\n",
      "Epoch 91/100\n",
      "64/64 [==============================] - 1s 15ms/step - loss: 0.0568 - accuracy: 0.9852\n",
      "Epoch 92/100\n",
      "64/64 [==============================] - 1s 15ms/step - loss: 0.0704 - accuracy: 0.9826\n",
      "Epoch 93/100\n",
      "64/64 [==============================] - 1s 15ms/step - loss: 0.0549 - accuracy: 0.9866\n",
      "Epoch 94/100\n",
      "64/64 [==============================] - 1s 15ms/step - loss: 0.0374 - accuracy: 0.9903\n",
      "Epoch 95/100\n",
      "64/64 [==============================] - 1s 15ms/step - loss: 0.0429 - accuracy: 0.9888\n",
      "Epoch 96/100\n",
      "64/64 [==============================] - 1s 15ms/step - loss: 0.0251 - accuracy: 0.9930\n",
      "Epoch 97/100\n",
      "64/64 [==============================] - 1s 15ms/step - loss: 0.0398 - accuracy: 0.9906\n",
      "Epoch 98/100\n",
      "64/64 [==============================] - 1s 15ms/step - loss: 0.0406 - accuracy: 0.9900\n",
      "Epoch 99/100\n",
      "64/64 [==============================] - 1s 15ms/step - loss: 0.0641 - accuracy: 0.9847\n",
      "Epoch 100/100\n",
      "64/64 [==============================] - 1s 15ms/step - loss: 0.0523 - accuracy: 0.9850\n"
     ]
    },
    {
     "data": {
      "text/plain": [
       "<keras.callbacks.History at 0x7f7660ce8340>"
      ]
     },
     "execution_count": 8,
     "metadata": {},
     "output_type": "execute_result"
    }
   ],
   "source": [
    "model.compile(optimizer = 'adam',\n",
    "              loss = 'sparse_categorical_crossentropy',\n",
    "              metrics = ['accuracy'])\n",
    "\n",
    "model.fit(x_train, y_train, epochs=100, batch_size = 128)"
   ]
  },
  {
   "cell_type": "markdown",
   "id": "9aeefbe6",
   "metadata": {},
   "source": [
    "# 테스트 데이터셋 불러오기 및 가공,라벨링"
   ]
  },
  {
   "cell_type": "code",
   "execution_count": 9,
   "id": "ce522f68",
   "metadata": {},
   "outputs": [
    {
     "name": "stdout",
     "output_type": "stream",
     "text": [
      "800  images to be resized.\n",
      "800  images resized.\n",
      "가위 이미지 resize 완료!\n",
      "800  images to be resized.\n",
      "800  images resized.\n",
      "바위 이미지 resize 완료!\n",
      "800  images to be resized.\n",
      "800  images resized.\n",
      "보 이미지 resize 완료!\n",
      "학습데이터(x_test)의 이미지 개수는 2400 입니다.\n",
      "x_test shape: (2400, 28, 28, 3)\n",
      "y_test shape: (2400,)\n"
     ]
    }
   ],
   "source": [
    "def resize_images(img_path):\n",
    "\timages=glob.glob(img_path + \"/*.jpg\")  \n",
    "    \n",
    "\tprint(len(images), \" images to be resized.\")\n",
    "\n",
    "\ttarget_size=(28,28)\n",
    "\tfor img in images:\n",
    "\t\told_img=Image.open(img)\n",
    "\t\tnew_img=old_img.resize(target_size,Image.ANTIALIAS)\n",
    "\t\tnew_img.save(img, \"JPEG\")\n",
    "    \n",
    "\tprint(len(images), \" images resized.\")\n",
    "\t\n",
    "image_dir_path = os.getenv(\"HOME\") + \"/aiffel/rcp/test2/scissor_t\"\n",
    "resize_images(image_dir_path)\n",
    "\n",
    "print(\"가위 이미지 resize 완료!\")\n",
    "\n",
    "def resize_images(img_path):\n",
    "\timages=glob.glob(img_path + \"/*.jpg\")  \n",
    "    \n",
    "\tprint(len(images), \" images to be resized.\")\n",
    "\n",
    "\ttarget_size=(28,28)\n",
    "\tfor img in images:\n",
    "\t\told_img=Image.open(img)\n",
    "\t\tnew_img=old_img.resize(target_size,Image.ANTIALIAS)\n",
    "\t\tnew_img.save(img, \"JPEG\")\n",
    "    \n",
    "\tprint(len(images), \" images resized.\")\n",
    "\t\n",
    "image_dir_path = os.getenv(\"HOME\") + \"/aiffel/rcp/test2/rock_t\"\n",
    "resize_images(image_dir_path)\n",
    "\n",
    "print(\"바위 이미지 resize 완료!\")\n",
    "\n",
    "\n",
    "def resize_images(img_path):\n",
    "\timages=glob.glob(img_path + \"/*.jpg\")  \n",
    "    \n",
    "\tprint(len(images), \" images to be resized.\")\n",
    "\n",
    "\ttarget_size=(28,28)\n",
    "\tfor img in images:\n",
    "\t\told_img=Image.open(img)\n",
    "\t\tnew_img=old_img.resize(target_size,Image.ANTIALIAS)\n",
    "\t\tnew_img.save(img, \"JPEG\")\n",
    "    \n",
    "\tprint(len(images), \" images resized.\")\n",
    "\t\n",
    "image_dir_path = os.getenv(\"HOME\") + \"/aiffel/rcp/test2/paper_t\"\n",
    "resize_images(image_dir_path)\n",
    "\n",
    "print(\"보 이미지 resize 완료!\")\n",
    "\n",
    "\n",
    "\n",
    "def load_data(img_path, number_of_data=2400):\n",
    "    img_size=28\n",
    "    color=3\n",
    "    imgs=np.zeros(number_of_data*img_size*img_size*color,dtype=np.int32).reshape(number_of_data,img_size,img_size,color)\n",
    "    labels=np.zeros(number_of_data,dtype=np.int32)\n",
    "\n",
    "    idx=0\n",
    "    for file in glob.iglob(img_path+'/scissor_t/*.jpg'):\n",
    "        img = np.array(Image.open(file),dtype=np.int32)\n",
    "        imgs[idx,:,:,:]=img    \n",
    "        labels[idx]=0   \n",
    "        idx=idx+1\n",
    "\n",
    "    for file in glob.iglob(img_path+'/rock_t/*.jpg'):\n",
    "        img = np.array(Image.open(file),dtype=np.int32)\n",
    "        imgs[idx,:,:,:]=img    \n",
    "        labels[idx]=1   \n",
    "        idx=idx+1  \n",
    "    \n",
    "    for file in glob.iglob(img_path+'/paper_t/*.jpg'):\n",
    "        img = np.array(Image.open(file),dtype=np.int32)\n",
    "        imgs[idx,:,:,:]=img    \n",
    "        labels[idx]=2   \n",
    "        idx=idx+1\n",
    "        \n",
    "    print(\"학습데이터(x_test)의 이미지 개수는\", idx,\"입니다.\")\n",
    "    return imgs, labels\n",
    "\n",
    "image_dir_path = os.getenv(\"HOME\") + \"/aiffel/rcp/test2\"\n",
    "(x_test, y_test)=load_data(image_dir_path)\n",
    "x_test_norm = x_test/255.0   \n",
    "\n",
    "print(\"x_test shape: {}\".format(x_test.shape))\n",
    "print(\"y_test shape: {}\".format(y_test.shape))"
   ]
  },
  {
   "cell_type": "markdown",
   "id": "efbc5df1",
   "metadata": {},
   "source": [
    "# 결과"
   ]
  },
  {
   "cell_type": "code",
   "execution_count": 10,
   "id": "d2f75d28",
   "metadata": {
    "scrolled": true
   },
   "outputs": [
    {
     "name": "stdout",
     "output_type": "stream",
     "text": [
      "75/75 - 0s - loss: 3.7765 - accuracy: 0.7242\n",
      "test_loss:3.7764627933502197\n",
      "test_accuracy : 0.7241666913032532\n"
     ]
    }
   ],
   "source": [
    "test_loss, test_accuracy = model.evaluate(x_test,y_test, verbose = 2)\n",
    "print('test_loss:{}'.format(test_loss))\n",
    "print('test_accuracy : {}'.format(test_accuracy))"
   ]
  },
  {
   "cell_type": "markdown",
   "id": "718262a4",
   "metadata": {},
   "source": [
    "# 프로젝트 회고\n",
    "\n",
    "이것저것 에러가 뜨는 걸 잡고 처음 돌렸을 때 35%의 정확도를 보였다.\n",
    "모델을 깊게 만들고 드롭아웃과 배치사이즈 에포크 등을 고치면 60%는 금방 넘을 줄 알았다.\n",
    "하지만 코드를 고치기만 해서는 52%까지 밖에 올릴 수 없었다.\n",
    "결국 데이터셋을 열심히 모았고, 300개였던 트레이닝셋을 8123개까지 모았다.\n",
    "트레이닝셋을 모으고 기대를 하며 모델의 정확도를 봤는데 accuracy: 0.3333을 보고는 어떻게 정확도가 더 내려갈 수 있는건지 의아했다.\n",
    "다시 모델을 고치고 레이어를 추가해보고 실행하고를 반복해서 92%의 정확도를 보고는 뿌듯했었다.\n",
    "하지만 그 때 모델의 테스트셋은 내가 찍은 사진들로만 구성되어 있었고,\n",
    "다른 사람의 테스트 셋을 가지고 테스트 해보니까 코드를 실행시킬때 마다 33~86까지 고점은 높지만 너무나 불안정한 모델이었다.\n",
    "왜 그럴까 고민을 하다가 테스트 셋이 한 사람만의 사진이기 때문인 것은 아닐까하고 여러 사람들의 테스트 셋을 섞어서 2400개의 테스트 셋을 만들었다.\n",
    "여러 사람의 테스트 셋을 사용하니 33~40정도로 안정적(?)이지만 고점이 없다시피한 테스트 결과가 나왔다.\n",
    "또다시 Dense층을 여러층 쌓아보기도 하고 드롭아웃 수를 조절하고 옵티마이저를 adam에서 Nadam을 사용해보기도 하고\n",
    "배치사이즈를 조정하기도 하며 여러 테스트를 하다가\n",
    "지금의 모델이 여러번 새로 돌려도 62~78까지의 안정적이면서 고점도 어느정도 괜찮은 모델이라고 판단했다.\n",
    "\n",
    "이전까지는 공부를 하던 프로젝트를 해보던 남들이 만들어놓은 모델을 보거나 사용해서 프로젝트를 했었다.\n",
    "에러는 검색을 해가면서 잡아나갔지만 사실 이 코드가 왜 이렇게 만들어진건지, 왜 이런방식을 썼는지도 이해를 못했었다.\n",
    "남이 사용하던 모델을 사용할 때 가장 힘들었던 것이 내가 코드를 사용하는데 익숙하지 않다보니 정확도를 위해서 건드려보고 싶어도\n",
    "에러가 날까봐 코드를 건드릴 수 없었다는 것이었다.\n",
    "하지만 이번 프로젝트는 코드를 한줄한줄 다 이해한 것은 아니었지만\n",
    "적어도 코드가 어떤식으로 흘러가는지 어떤 부분을 건드렸을 때 어떤 에러가 나는지 어떻게 에러를 잡을 수 있는지 알 수 있었고,\n",
    "모델을 내가 직접 만들어보고 이것저것 추가도해보고 사이즈 조절도 해가면서 코드를 가지고 놀아보니까\n",
    "정말 재미있었고 정확도가 잘나오면 은근 뿌듯했다.\n",
    "\n",
    "아직은 첫번째 프로젝트라서 모든 코드를 직접 작성할 수는 없었지만\n",
    "나의 목표는 이런 딥러닝 모델 코드를 혼자서 작성하는 것이기 때문에 \n",
    "재밌다에서 그치지 않고 더 열심히 공부해서 아이펠이 끝날때 쯤에는\n",
    "혼자서 이런 프로젝트를 할 수 있었게 할 것이다.\n"
   ]
  }
 ],
 "metadata": {
  "kernelspec": {
   "display_name": "Python 3 (ipykernel)",
   "language": "python",
   "name": "python3"
  },
  "language_info": {
   "codemirror_mode": {
    "name": "ipython",
    "version": 3
   },
   "file_extension": ".py",
   "mimetype": "text/x-python",
   "name": "python",
   "nbconvert_exporter": "python",
   "pygments_lexer": "ipython3",
   "version": "3.9.7"
  }
 },
 "nbformat": 4,
 "nbformat_minor": 5
}

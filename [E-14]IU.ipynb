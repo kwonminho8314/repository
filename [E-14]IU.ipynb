{
 "cells": [
  {
   "cell_type": "markdown",
   "id": "6697ad40",
   "metadata": {},
   "source": [
    "# 데이터 불러오기"
   ]
  },
  {
   "cell_type": "code",
   "execution_count": 1,
   "id": "a0d5f1ee",
   "metadata": {},
   "outputs": [
    {
     "data": {
      "text/html": [
       "<div>\n",
       "<style scoped>\n",
       "    .dataframe tbody tr th:only-of-type {\n",
       "        vertical-align: middle;\n",
       "    }\n",
       "\n",
       "    .dataframe tbody tr th {\n",
       "        vertical-align: top;\n",
       "    }\n",
       "\n",
       "    .dataframe thead th {\n",
       "        text-align: right;\n",
       "    }\n",
       "</style>\n",
       "<table border=\"1\" class=\"dataframe\">\n",
       "  <thead>\n",
       "    <tr style=\"text-align: right;\">\n",
       "      <th></th>\n",
       "      <th>user_id</th>\n",
       "      <th>movie_id</th>\n",
       "      <th>ratings</th>\n",
       "      <th>timestamp</th>\n",
       "    </tr>\n",
       "  </thead>\n",
       "  <tbody>\n",
       "    <tr>\n",
       "      <th>0</th>\n",
       "      <td>1</td>\n",
       "      <td>1193</td>\n",
       "      <td>5</td>\n",
       "      <td>978300760</td>\n",
       "    </tr>\n",
       "    <tr>\n",
       "      <th>1</th>\n",
       "      <td>1</td>\n",
       "      <td>661</td>\n",
       "      <td>3</td>\n",
       "      <td>978302109</td>\n",
       "    </tr>\n",
       "    <tr>\n",
       "      <th>2</th>\n",
       "      <td>1</td>\n",
       "      <td>914</td>\n",
       "      <td>3</td>\n",
       "      <td>978301968</td>\n",
       "    </tr>\n",
       "    <tr>\n",
       "      <th>3</th>\n",
       "      <td>1</td>\n",
       "      <td>3408</td>\n",
       "      <td>4</td>\n",
       "      <td>978300275</td>\n",
       "    </tr>\n",
       "    <tr>\n",
       "      <th>4</th>\n",
       "      <td>1</td>\n",
       "      <td>2355</td>\n",
       "      <td>5</td>\n",
       "      <td>978824291</td>\n",
       "    </tr>\n",
       "  </tbody>\n",
       "</table>\n",
       "</div>"
      ],
      "text/plain": [
       "   user_id  movie_id  ratings  timestamp\n",
       "0        1      1193        5  978300760\n",
       "1        1       661        3  978302109\n",
       "2        1       914        3  978301968\n",
       "3        1      3408        4  978300275\n",
       "4        1      2355        5  978824291"
      ]
     },
     "execution_count": 1,
     "metadata": {},
     "output_type": "execute_result"
    }
   ],
   "source": [
    "import os\n",
    "import pandas as pd\n",
    "rating_file_path=os.getenv('HOME') + '/aiffel/recommendata_iu/data/ml-1m/ratings.dat'\n",
    "ratings_cols = ['user_id', 'movie_id', 'ratings', 'timestamp']\n",
    "ratings = pd.read_csv(rating_file_path, sep='::', names=ratings_cols, engine='python', encoding = \"ISO-8859-1\")\n",
    "orginal_data_size = len(ratings)\n",
    "ratings.head()"
   ]
  },
  {
   "cell_type": "markdown",
   "id": "3a7c184b",
   "metadata": {},
   "source": [
    "# 데이터 전처리"
   ]
  },
  {
   "cell_type": "code",
   "execution_count": 2,
   "id": "cddc43fa",
   "metadata": {},
   "outputs": [
    {
     "name": "stdout",
     "output_type": "stream",
     "text": [
      "orginal_data_size: 1000209, filtered_data_size: 836478\n",
      "Ratio of Remaining Data is 83.63%\n"
     ]
    }
   ],
   "source": [
    "# 3점 이상만 남깁니다.\n",
    "ratings = ratings[ratings['ratings']>=3]\n",
    "filtered_data_size = len(ratings)\n",
    "\n",
    "print(f'orginal_data_size: {orginal_data_size}, filtered_data_size: {filtered_data_size}')\n",
    "print(f'Ratio of Remaining Data is {filtered_data_size / orginal_data_size:.2%}')"
   ]
  },
  {
   "cell_type": "code",
   "execution_count": 3,
   "id": "41f8b8ee",
   "metadata": {},
   "outputs": [],
   "source": [
    "# ratings 컬럼의 이름을 counts로 바꿉니다.\n",
    "ratings.rename(columns={'ratings':'counts'}, inplace=True)"
   ]
  },
  {
   "cell_type": "code",
   "execution_count": 4,
   "id": "94b33cae",
   "metadata": {},
   "outputs": [
    {
     "data": {
      "text/plain": [
       "0          5\n",
       "1          3\n",
       "2          3\n",
       "3          4\n",
       "4          5\n",
       "          ..\n",
       "1000203    3\n",
       "1000205    5\n",
       "1000206    5\n",
       "1000207    4\n",
       "1000208    4\n",
       "Name: counts, Length: 836478, dtype: int64"
      ]
     },
     "execution_count": 4,
     "metadata": {},
     "output_type": "execute_result"
    }
   ],
   "source": [
    "ratings['counts']"
   ]
  },
  {
   "cell_type": "code",
   "execution_count": 5,
   "id": "515628e6",
   "metadata": {},
   "outputs": [
    {
     "data": {
      "text/html": [
       "<div>\n",
       "<style scoped>\n",
       "    .dataframe tbody tr th:only-of-type {\n",
       "        vertical-align: middle;\n",
       "    }\n",
       "\n",
       "    .dataframe tbody tr th {\n",
       "        vertical-align: top;\n",
       "    }\n",
       "\n",
       "    .dataframe thead th {\n",
       "        text-align: right;\n",
       "    }\n",
       "</style>\n",
       "<table border=\"1\" class=\"dataframe\">\n",
       "  <thead>\n",
       "    <tr style=\"text-align: right;\">\n",
       "      <th></th>\n",
       "      <th>movie_id</th>\n",
       "      <th>title</th>\n",
       "      <th>genre</th>\n",
       "    </tr>\n",
       "  </thead>\n",
       "  <tbody>\n",
       "    <tr>\n",
       "      <th>0</th>\n",
       "      <td>1</td>\n",
       "      <td>Toy Story (1995)</td>\n",
       "      <td>Animation|Children's|Comedy</td>\n",
       "    </tr>\n",
       "    <tr>\n",
       "      <th>1</th>\n",
       "      <td>2</td>\n",
       "      <td>Jumanji (1995)</td>\n",
       "      <td>Adventure|Children's|Fantasy</td>\n",
       "    </tr>\n",
       "    <tr>\n",
       "      <th>2</th>\n",
       "      <td>3</td>\n",
       "      <td>Grumpier Old Men (1995)</td>\n",
       "      <td>Comedy|Romance</td>\n",
       "    </tr>\n",
       "    <tr>\n",
       "      <th>3</th>\n",
       "      <td>4</td>\n",
       "      <td>Waiting to Exhale (1995)</td>\n",
       "      <td>Comedy|Drama</td>\n",
       "    </tr>\n",
       "    <tr>\n",
       "      <th>4</th>\n",
       "      <td>5</td>\n",
       "      <td>Father of the Bride Part II (1995)</td>\n",
       "      <td>Comedy</td>\n",
       "    </tr>\n",
       "    <tr>\n",
       "      <th>5</th>\n",
       "      <td>6</td>\n",
       "      <td>Heat (1995)</td>\n",
       "      <td>Action|Crime|Thriller</td>\n",
       "    </tr>\n",
       "    <tr>\n",
       "      <th>6</th>\n",
       "      <td>7</td>\n",
       "      <td>Sabrina (1995)</td>\n",
       "      <td>Comedy|Romance</td>\n",
       "    </tr>\n",
       "    <tr>\n",
       "      <th>7</th>\n",
       "      <td>8</td>\n",
       "      <td>Tom and Huck (1995)</td>\n",
       "      <td>Adventure|Children's</td>\n",
       "    </tr>\n",
       "    <tr>\n",
       "      <th>8</th>\n",
       "      <td>9</td>\n",
       "      <td>Sudden Death (1995)</td>\n",
       "      <td>Action</td>\n",
       "    </tr>\n",
       "    <tr>\n",
       "      <th>9</th>\n",
       "      <td>10</td>\n",
       "      <td>GoldenEye (1995)</td>\n",
       "      <td>Action|Adventure|Thriller</td>\n",
       "    </tr>\n",
       "    <tr>\n",
       "      <th>10</th>\n",
       "      <td>11</td>\n",
       "      <td>American President, The (1995)</td>\n",
       "      <td>Comedy|Drama|Romance</td>\n",
       "    </tr>\n",
       "  </tbody>\n",
       "</table>\n",
       "</div>"
      ],
      "text/plain": [
       "    movie_id                               title                         genre\n",
       "0          1                    Toy Story (1995)   Animation|Children's|Comedy\n",
       "1          2                      Jumanji (1995)  Adventure|Children's|Fantasy\n",
       "2          3             Grumpier Old Men (1995)                Comedy|Romance\n",
       "3          4            Waiting to Exhale (1995)                  Comedy|Drama\n",
       "4          5  Father of the Bride Part II (1995)                        Comedy\n",
       "5          6                         Heat (1995)         Action|Crime|Thriller\n",
       "6          7                      Sabrina (1995)                Comedy|Romance\n",
       "7          8                 Tom and Huck (1995)          Adventure|Children's\n",
       "8          9                 Sudden Death (1995)                        Action\n",
       "9         10                    GoldenEye (1995)     Action|Adventure|Thriller\n",
       "10        11      American President, The (1995)          Comedy|Drama|Romance"
      ]
     },
     "execution_count": 5,
     "metadata": {},
     "output_type": "execute_result"
    }
   ],
   "source": [
    "# 영화 제목을 보기 위해 메타 데이터를 읽어옵니다.\n",
    "movie_file_path=os.getenv('HOME') + '/aiffel/recommendata_iu/data/ml-1m/movies.dat'\n",
    "cols = ['movie_id', 'title', 'genre'] \n",
    "movies = pd.read_csv(movie_file_path, sep='::', names=cols, engine='python', encoding='ISO-8859-1')\n",
    "movies.head(11)"
   ]
  },
  {
   "cell_type": "code",
   "execution_count": 6,
   "id": "94368da9",
   "metadata": {},
   "outputs": [
    {
     "data": {
      "text/html": [
       "<div>\n",
       "<style scoped>\n",
       "    .dataframe tbody tr th:only-of-type {\n",
       "        vertical-align: middle;\n",
       "    }\n",
       "\n",
       "    .dataframe tbody tr th {\n",
       "        vertical-align: top;\n",
       "    }\n",
       "\n",
       "    .dataframe thead th {\n",
       "        text-align: right;\n",
       "    }\n",
       "</style>\n",
       "<table border=\"1\" class=\"dataframe\">\n",
       "  <thead>\n",
       "    <tr style=\"text-align: right;\">\n",
       "      <th></th>\n",
       "      <th>movie_id</th>\n",
       "      <th>title</th>\n",
       "      <th>genre</th>\n",
       "    </tr>\n",
       "  </thead>\n",
       "  <tbody>\n",
       "    <tr>\n",
       "      <th>3873</th>\n",
       "      <td>3943</td>\n",
       "      <td>Bamboozled (2000)</td>\n",
       "      <td>Comedy</td>\n",
       "    </tr>\n",
       "    <tr>\n",
       "      <th>3874</th>\n",
       "      <td>3944</td>\n",
       "      <td>Bootmen (2000)</td>\n",
       "      <td>Comedy|Drama</td>\n",
       "    </tr>\n",
       "    <tr>\n",
       "      <th>3875</th>\n",
       "      <td>3945</td>\n",
       "      <td>Digimon: The Movie (2000)</td>\n",
       "      <td>Adventure|Animation|Children's</td>\n",
       "    </tr>\n",
       "    <tr>\n",
       "      <th>3876</th>\n",
       "      <td>3946</td>\n",
       "      <td>Get Carter (2000)</td>\n",
       "      <td>Action|Drama|Thriller</td>\n",
       "    </tr>\n",
       "    <tr>\n",
       "      <th>3877</th>\n",
       "      <td>3947</td>\n",
       "      <td>Get Carter (1971)</td>\n",
       "      <td>Thriller</td>\n",
       "    </tr>\n",
       "    <tr>\n",
       "      <th>3878</th>\n",
       "      <td>3948</td>\n",
       "      <td>Meet the Parents (2000)</td>\n",
       "      <td>Comedy</td>\n",
       "    </tr>\n",
       "    <tr>\n",
       "      <th>3879</th>\n",
       "      <td>3949</td>\n",
       "      <td>Requiem for a Dream (2000)</td>\n",
       "      <td>Drama</td>\n",
       "    </tr>\n",
       "    <tr>\n",
       "      <th>3880</th>\n",
       "      <td>3950</td>\n",
       "      <td>Tigerland (2000)</td>\n",
       "      <td>Drama</td>\n",
       "    </tr>\n",
       "    <tr>\n",
       "      <th>3881</th>\n",
       "      <td>3951</td>\n",
       "      <td>Two Family House (2000)</td>\n",
       "      <td>Drama</td>\n",
       "    </tr>\n",
       "    <tr>\n",
       "      <th>3882</th>\n",
       "      <td>3952</td>\n",
       "      <td>Contender, The (2000)</td>\n",
       "      <td>Drama|Thriller</td>\n",
       "    </tr>\n",
       "  </tbody>\n",
       "</table>\n",
       "</div>"
      ],
      "text/plain": [
       "      movie_id                       title                           genre\n",
       "3873      3943           Bamboozled (2000)                          Comedy\n",
       "3874      3944              Bootmen (2000)                    Comedy|Drama\n",
       "3875      3945   Digimon: The Movie (2000)  Adventure|Animation|Children's\n",
       "3876      3946           Get Carter (2000)           Action|Drama|Thriller\n",
       "3877      3947           Get Carter (1971)                        Thriller\n",
       "3878      3948     Meet the Parents (2000)                          Comedy\n",
       "3879      3949  Requiem for a Dream (2000)                           Drama\n",
       "3880      3950            Tigerland (2000)                           Drama\n",
       "3881      3951     Two Family House (2000)                           Drama\n",
       "3882      3952       Contender, The (2000)                  Drama|Thriller"
      ]
     },
     "execution_count": 6,
     "metadata": {},
     "output_type": "execute_result"
    }
   ],
   "source": [
    "movies.tail(10)"
   ]
  },
  {
   "cell_type": "code",
   "execution_count": 7,
   "id": "113f8a30",
   "metadata": {},
   "outputs": [
    {
     "data": {
      "text/html": [
       "<div>\n",
       "<style scoped>\n",
       "    .dataframe tbody tr th:only-of-type {\n",
       "        vertical-align: middle;\n",
       "    }\n",
       "\n",
       "    .dataframe tbody tr th {\n",
       "        vertical-align: top;\n",
       "    }\n",
       "\n",
       "    .dataframe thead th {\n",
       "        text-align: right;\n",
       "    }\n",
       "</style>\n",
       "<table border=\"1\" class=\"dataframe\">\n",
       "  <thead>\n",
       "    <tr style=\"text-align: right;\">\n",
       "      <th></th>\n",
       "      <th>user_id</th>\n",
       "      <th>movie_id</th>\n",
       "      <th>counts</th>\n",
       "      <th>timestamp</th>\n",
       "      <th>title</th>\n",
       "    </tr>\n",
       "  </thead>\n",
       "  <tbody>\n",
       "    <tr>\n",
       "      <th>0</th>\n",
       "      <td>1</td>\n",
       "      <td>1193</td>\n",
       "      <td>5</td>\n",
       "      <td>978300760</td>\n",
       "      <td>One Flew Over the Cuckoo's Nest (1975)</td>\n",
       "    </tr>\n",
       "    <tr>\n",
       "      <th>1</th>\n",
       "      <td>1</td>\n",
       "      <td>661</td>\n",
       "      <td>3</td>\n",
       "      <td>978302109</td>\n",
       "      <td>James and the Giant Peach (1996)</td>\n",
       "    </tr>\n",
       "    <tr>\n",
       "      <th>2</th>\n",
       "      <td>1</td>\n",
       "      <td>914</td>\n",
       "      <td>3</td>\n",
       "      <td>978301968</td>\n",
       "      <td>My Fair Lady (1964)</td>\n",
       "    </tr>\n",
       "    <tr>\n",
       "      <th>3</th>\n",
       "      <td>1</td>\n",
       "      <td>3408</td>\n",
       "      <td>4</td>\n",
       "      <td>978300275</td>\n",
       "      <td>Erin Brockovich (2000)</td>\n",
       "    </tr>\n",
       "    <tr>\n",
       "      <th>4</th>\n",
       "      <td>1</td>\n",
       "      <td>2355</td>\n",
       "      <td>5</td>\n",
       "      <td>978824291</td>\n",
       "      <td>Bug's Life, A (1998)</td>\n",
       "    </tr>\n",
       "    <tr>\n",
       "      <th>...</th>\n",
       "      <td>...</td>\n",
       "      <td>...</td>\n",
       "      <td>...</td>\n",
       "      <td>...</td>\n",
       "      <td>...</td>\n",
       "    </tr>\n",
       "    <tr>\n",
       "      <th>836473</th>\n",
       "      <td>6040</td>\n",
       "      <td>1090</td>\n",
       "      <td>3</td>\n",
       "      <td>956715518</td>\n",
       "      <td>Platoon (1986)</td>\n",
       "    </tr>\n",
       "    <tr>\n",
       "      <th>836474</th>\n",
       "      <td>6040</td>\n",
       "      <td>1094</td>\n",
       "      <td>5</td>\n",
       "      <td>956704887</td>\n",
       "      <td>Crying Game, The (1992)</td>\n",
       "    </tr>\n",
       "    <tr>\n",
       "      <th>836475</th>\n",
       "      <td>6040</td>\n",
       "      <td>562</td>\n",
       "      <td>5</td>\n",
       "      <td>956704746</td>\n",
       "      <td>Welcome to the Dollhouse (1995)</td>\n",
       "    </tr>\n",
       "    <tr>\n",
       "      <th>836476</th>\n",
       "      <td>6040</td>\n",
       "      <td>1096</td>\n",
       "      <td>4</td>\n",
       "      <td>956715648</td>\n",
       "      <td>Sophie's Choice (1982)</td>\n",
       "    </tr>\n",
       "    <tr>\n",
       "      <th>836477</th>\n",
       "      <td>6040</td>\n",
       "      <td>1097</td>\n",
       "      <td>4</td>\n",
       "      <td>956715569</td>\n",
       "      <td>E.T. the Extra-Terrestrial (1982)</td>\n",
       "    </tr>\n",
       "  </tbody>\n",
       "</table>\n",
       "<p>836478 rows × 5 columns</p>\n",
       "</div>"
      ],
      "text/plain": [
       "        user_id  movie_id  counts  timestamp  \\\n",
       "0             1      1193       5  978300760   \n",
       "1             1       661       3  978302109   \n",
       "2             1       914       3  978301968   \n",
       "3             1      3408       4  978300275   \n",
       "4             1      2355       5  978824291   \n",
       "...         ...       ...     ...        ...   \n",
       "836473     6040      1090       3  956715518   \n",
       "836474     6040      1094       5  956704887   \n",
       "836475     6040       562       5  956704746   \n",
       "836476     6040      1096       4  956715648   \n",
       "836477     6040      1097       4  956715569   \n",
       "\n",
       "                                         title  \n",
       "0       One Flew Over the Cuckoo's Nest (1975)  \n",
       "1             James and the Giant Peach (1996)  \n",
       "2                          My Fair Lady (1964)  \n",
       "3                       Erin Brockovich (2000)  \n",
       "4                         Bug's Life, A (1998)  \n",
       "...                                        ...  \n",
       "836473                          Platoon (1986)  \n",
       "836474                 Crying Game, The (1992)  \n",
       "836475         Welcome to the Dollhouse (1995)  \n",
       "836476                  Sophie's Choice (1982)  \n",
       "836477       E.T. the Extra-Terrestrial (1982)  \n",
       "\n",
       "[836478 rows x 5 columns]"
      ]
     },
     "execution_count": 7,
     "metadata": {},
     "output_type": "execute_result"
    }
   ],
   "source": [
    "# 영화를 title로 입력할 것이기때문에 title이란 컬럼을 불러와야합니다.\n",
    "ratings = pd.merge(ratings, movies[['title', 'movie_id']], on='movie_id', how='left')\n",
    "ratings"
   ]
  },
  {
   "cell_type": "code",
   "execution_count": 8,
   "id": "f36e3283",
   "metadata": {},
   "outputs": [
    {
     "data": {
      "text/plain": [
       "3628"
      ]
     },
     "execution_count": 8,
     "metadata": {},
     "output_type": "execute_result"
    }
   ],
   "source": [
    "# ratings에 있는 유니크한 영화 개수\n",
    "ratings['movie_id'].nunique()"
   ]
  },
  {
   "cell_type": "code",
   "execution_count": 9,
   "id": "6ada044f",
   "metadata": {},
   "outputs": [
    {
     "data": {
      "text/plain": [
       "6039"
      ]
     },
     "execution_count": 9,
     "metadata": {},
     "output_type": "execute_result"
    }
   ],
   "source": [
    "# rating에 있는 유니크한 사용자 수\n",
    "ratings['user_id'].nunique()"
   ]
  },
  {
   "cell_type": "code",
   "execution_count": 10,
   "id": "7c047b6b",
   "metadata": {},
   "outputs": [
    {
     "data": {
      "text/plain": [
       "movie_id\n",
       "2858    3211\n",
       "260     2910\n",
       "1196    2885\n",
       "1210    2716\n",
       "2028    2561\n",
       "589     2509\n",
       "593     2498\n",
       "1198    2473\n",
       "1270    2460\n",
       "2571    2434\n",
       "Name: counts, dtype: int64"
      ]
     },
     "execution_count": 10,
     "metadata": {},
     "output_type": "execute_result"
    }
   ],
   "source": [
    "#가장 인기 있는 영화 30개(인기순) 영화 id별 별점(시청횟수)많은 순\n",
    "movie_count = ratings.groupby('movie_id')['counts'].count()\n",
    "movie_count.sort_values(ascending=False).head(10)"
   ]
  },
  {
   "cell_type": "code",
   "execution_count": 11,
   "id": "0cc856d3",
   "metadata": {},
   "outputs": [
    {
     "data": {
      "text/html": [
       "<div>\n",
       "<style scoped>\n",
       "    .dataframe tbody tr th:only-of-type {\n",
       "        vertical-align: middle;\n",
       "    }\n",
       "\n",
       "    .dataframe tbody tr th {\n",
       "        vertical-align: top;\n",
       "    }\n",
       "\n",
       "    .dataframe thead th {\n",
       "        text-align: right;\n",
       "    }\n",
       "</style>\n",
       "<table border=\"1\" class=\"dataframe\">\n",
       "  <thead>\n",
       "    <tr style=\"text-align: right;\">\n",
       "      <th></th>\n",
       "      <th>user_id</th>\n",
       "      <th>movie_id</th>\n",
       "      <th>counts</th>\n",
       "      <th>timestamp</th>\n",
       "      <th>title</th>\n",
       "    </tr>\n",
       "  </thead>\n",
       "  <tbody>\n",
       "    <tr>\n",
       "      <th>836473</th>\n",
       "      <td>6040</td>\n",
       "      <td>1090.0</td>\n",
       "      <td>3</td>\n",
       "      <td>956715518.0</td>\n",
       "      <td>Platoon (1986)</td>\n",
       "    </tr>\n",
       "    <tr>\n",
       "      <th>836474</th>\n",
       "      <td>6040</td>\n",
       "      <td>1094.0</td>\n",
       "      <td>5</td>\n",
       "      <td>956704887.0</td>\n",
       "      <td>Crying Game, The (1992)</td>\n",
       "    </tr>\n",
       "    <tr>\n",
       "      <th>836475</th>\n",
       "      <td>6040</td>\n",
       "      <td>562.0</td>\n",
       "      <td>5</td>\n",
       "      <td>956704746.0</td>\n",
       "      <td>Welcome to the Dollhouse (1995)</td>\n",
       "    </tr>\n",
       "    <tr>\n",
       "      <th>836476</th>\n",
       "      <td>6040</td>\n",
       "      <td>1096.0</td>\n",
       "      <td>4</td>\n",
       "      <td>956715648.0</td>\n",
       "      <td>Sophie's Choice (1982)</td>\n",
       "    </tr>\n",
       "    <tr>\n",
       "      <th>836477</th>\n",
       "      <td>6040</td>\n",
       "      <td>1097.0</td>\n",
       "      <td>4</td>\n",
       "      <td>956715569.0</td>\n",
       "      <td>E.T. the Extra-Terrestrial (1982)</td>\n",
       "    </tr>\n",
       "    <tr>\n",
       "      <th>0</th>\n",
       "      <td>mino</td>\n",
       "      <td>NaN</td>\n",
       "      <td>5</td>\n",
       "      <td>NaN</td>\n",
       "      <td>minority report</td>\n",
       "    </tr>\n",
       "    <tr>\n",
       "      <th>1</th>\n",
       "      <td>mino</td>\n",
       "      <td>NaN</td>\n",
       "      <td>5</td>\n",
       "      <td>NaN</td>\n",
       "      <td>mission impossible</td>\n",
       "    </tr>\n",
       "    <tr>\n",
       "      <th>2</th>\n",
       "      <td>mino</td>\n",
       "      <td>NaN</td>\n",
       "      <td>5</td>\n",
       "      <td>NaN</td>\n",
       "      <td>get out</td>\n",
       "    </tr>\n",
       "    <tr>\n",
       "      <th>3</th>\n",
       "      <td>mino</td>\n",
       "      <td>NaN</td>\n",
       "      <td>5</td>\n",
       "      <td>NaN</td>\n",
       "      <td>inception</td>\n",
       "    </tr>\n",
       "    <tr>\n",
       "      <th>4</th>\n",
       "      <td>mino</td>\n",
       "      <td>NaN</td>\n",
       "      <td>5</td>\n",
       "      <td>NaN</td>\n",
       "      <td>gravity</td>\n",
       "    </tr>\n",
       "  </tbody>\n",
       "</table>\n",
       "</div>"
      ],
      "text/plain": [
       "       user_id  movie_id  counts    timestamp  \\\n",
       "836473    6040    1090.0       3  956715518.0   \n",
       "836474    6040    1094.0       5  956704887.0   \n",
       "836475    6040     562.0       5  956704746.0   \n",
       "836476    6040    1096.0       4  956715648.0   \n",
       "836477    6040    1097.0       4  956715569.0   \n",
       "0         mino       NaN       5          NaN   \n",
       "1         mino       NaN       5          NaN   \n",
       "2         mino       NaN       5          NaN   \n",
       "3         mino       NaN       5          NaN   \n",
       "4         mino       NaN       5          NaN   \n",
       "\n",
       "                                    title  \n",
       "836473                     Platoon (1986)  \n",
       "836474            Crying Game, The (1992)  \n",
       "836475    Welcome to the Dollhouse (1995)  \n",
       "836476             Sophie's Choice (1982)  \n",
       "836477  E.T. the Extra-Terrestrial (1982)  \n",
       "0                         minority report  \n",
       "1                      mission impossible  \n",
       "2                                 get out  \n",
       "3                               inception  \n",
       "4                                 gravity  "
      ]
     },
     "execution_count": 11,
     "metadata": {},
     "output_type": "execute_result"
    }
   ],
   "source": [
    "# 내가 선호하는 영화를 5가지 골라서 rating에 추가\n",
    "my_favorite = ['minority report', 'mission impossible', 'get out' , 'inception', 'gravity']\n",
    "\n",
    "my_list = pd.DataFrame({'user_id': ['mino']*5, 'title': my_favorite, 'counts':[5]*5})\n",
    "\n",
    "if not ratings.isin({'user_id':['mino']})['user_id'].any(): \n",
    "    ratings = ratings.append(my_list)                         \n",
    "\n",
    "ratings.tail(10)         "
   ]
  },
  {
   "cell_type": "code",
   "execution_count": 14,
   "id": "e2461747",
   "metadata": {},
   "outputs": [],
   "source": [
    "# 인덱싱\n",
    "userid_unique = ratings['user_id'].unique()\n",
    "#movie_unique = ratings['movie_id'].unique()\n",
    "\n",
    "movie_unique = ratings['title'].unique()\n",
    "\n",
    "# user, movie indexing 하는 코드 idx는 index의 약자입니다.\n",
    "user_to_idx = {v:k for k,v in enumerate(userid_unique)}\n",
    "movie_to_idx = {v:k for k,v in enumerate(movie_unique)}"
   ]
  },
  {
   "cell_type": "code",
   "execution_count": 16,
   "id": "d997a17b",
   "metadata": {},
   "outputs": [
    {
     "name": "stdout",
     "output_type": "stream",
     "text": [
      "6039\n",
      "3631\n"
     ]
    }
   ],
   "source": [
    "# 인덱싱이 잘 되었는지 확인\n",
    "print(user_to_idx['mino'])    \n",
    "print(movie_to_idx['inception'])"
   ]
  },
  {
   "cell_type": "code",
   "execution_count": 17,
   "id": "b194cfad",
   "metadata": {},
   "outputs": [
    {
     "name": "stdout",
     "output_type": "stream",
     "text": [
      "user_id column indexing OK!!\n",
      "movie_id column indexing OK!!\n"
     ]
    },
    {
     "data": {
      "text/html": [
       "<div>\n",
       "<style scoped>\n",
       "    .dataframe tbody tr th:only-of-type {\n",
       "        vertical-align: middle;\n",
       "    }\n",
       "\n",
       "    .dataframe tbody tr th {\n",
       "        vertical-align: top;\n",
       "    }\n",
       "\n",
       "    .dataframe thead th {\n",
       "        text-align: right;\n",
       "    }\n",
       "</style>\n",
       "<table border=\"1\" class=\"dataframe\">\n",
       "  <thead>\n",
       "    <tr style=\"text-align: right;\">\n",
       "      <th></th>\n",
       "      <th>user_id</th>\n",
       "      <th>movie_id</th>\n",
       "      <th>counts</th>\n",
       "      <th>timestamp</th>\n",
       "      <th>title</th>\n",
       "    </tr>\n",
       "  </thead>\n",
       "  <tbody>\n",
       "    <tr>\n",
       "      <th>0</th>\n",
       "      <td>0</td>\n",
       "      <td>0</td>\n",
       "      <td>5</td>\n",
       "      <td>978300760.0</td>\n",
       "      <td>One Flew Over the Cuckoo's Nest (1975)</td>\n",
       "    </tr>\n",
       "    <tr>\n",
       "      <th>1</th>\n",
       "      <td>0</td>\n",
       "      <td>1</td>\n",
       "      <td>3</td>\n",
       "      <td>978302109.0</td>\n",
       "      <td>James and the Giant Peach (1996)</td>\n",
       "    </tr>\n",
       "    <tr>\n",
       "      <th>2</th>\n",
       "      <td>0</td>\n",
       "      <td>2</td>\n",
       "      <td>3</td>\n",
       "      <td>978301968.0</td>\n",
       "      <td>My Fair Lady (1964)</td>\n",
       "    </tr>\n",
       "    <tr>\n",
       "      <th>3</th>\n",
       "      <td>0</td>\n",
       "      <td>3</td>\n",
       "      <td>4</td>\n",
       "      <td>978300275.0</td>\n",
       "      <td>Erin Brockovich (2000)</td>\n",
       "    </tr>\n",
       "    <tr>\n",
       "      <th>4</th>\n",
       "      <td>0</td>\n",
       "      <td>4</td>\n",
       "      <td>5</td>\n",
       "      <td>978824291.0</td>\n",
       "      <td>Bug's Life, A (1998)</td>\n",
       "    </tr>\n",
       "    <tr>\n",
       "      <th>...</th>\n",
       "      <td>...</td>\n",
       "      <td>...</td>\n",
       "      <td>...</td>\n",
       "      <td>...</td>\n",
       "      <td>...</td>\n",
       "    </tr>\n",
       "    <tr>\n",
       "      <th>0</th>\n",
       "      <td>6039</td>\n",
       "      <td>3628</td>\n",
       "      <td>5</td>\n",
       "      <td>NaN</td>\n",
       "      <td>minority report</td>\n",
       "    </tr>\n",
       "    <tr>\n",
       "      <th>1</th>\n",
       "      <td>6039</td>\n",
       "      <td>3629</td>\n",
       "      <td>5</td>\n",
       "      <td>NaN</td>\n",
       "      <td>mission impossible</td>\n",
       "    </tr>\n",
       "    <tr>\n",
       "      <th>2</th>\n",
       "      <td>6039</td>\n",
       "      <td>3630</td>\n",
       "      <td>5</td>\n",
       "      <td>NaN</td>\n",
       "      <td>get out</td>\n",
       "    </tr>\n",
       "    <tr>\n",
       "      <th>3</th>\n",
       "      <td>6039</td>\n",
       "      <td>3631</td>\n",
       "      <td>5</td>\n",
       "      <td>NaN</td>\n",
       "      <td>inception</td>\n",
       "    </tr>\n",
       "    <tr>\n",
       "      <th>4</th>\n",
       "      <td>6039</td>\n",
       "      <td>3632</td>\n",
       "      <td>5</td>\n",
       "      <td>NaN</td>\n",
       "      <td>gravity</td>\n",
       "    </tr>\n",
       "  </tbody>\n",
       "</table>\n",
       "<p>836483 rows × 5 columns</p>\n",
       "</div>"
      ],
      "text/plain": [
       "    user_id  movie_id  counts    timestamp  \\\n",
       "0         0         0       5  978300760.0   \n",
       "1         0         1       3  978302109.0   \n",
       "2         0         2       3  978301968.0   \n",
       "3         0         3       4  978300275.0   \n",
       "4         0         4       5  978824291.0   \n",
       "..      ...       ...     ...          ...   \n",
       "0      6039      3628       5          NaN   \n",
       "1      6039      3629       5          NaN   \n",
       "2      6039      3630       5          NaN   \n",
       "3      6039      3631       5          NaN   \n",
       "4      6039      3632       5          NaN   \n",
       "\n",
       "                                     title  \n",
       "0   One Flew Over the Cuckoo's Nest (1975)  \n",
       "1         James and the Giant Peach (1996)  \n",
       "2                      My Fair Lady (1964)  \n",
       "3                   Erin Brockovich (2000)  \n",
       "4                     Bug's Life, A (1998)  \n",
       "..                                     ...  \n",
       "0                          minority report  \n",
       "1                       mission impossible  \n",
       "2                                  get out  \n",
       "3                                inception  \n",
       "4                                  gravity  \n",
       "\n",
       "[836483 rows x 5 columns]"
      ]
     },
     "execution_count": 17,
     "metadata": {},
     "output_type": "execute_result"
    }
   ],
   "source": [
    "# indexing을 통해 데이터 컬럼 내 값을 바꾸는 코드\n",
    "# dictionary 자료형의 get 함수는 https://wikidocs.net/16 을 참고하세요.\n",
    "\n",
    "# user_to_idx.get을 통해 user_id 컬럼의 모든 값을 인덱싱한 Series를 구해 봅시다. \n",
    "# 혹시 정상적으로 인덱싱되지 않은 row가 있다면 인덱스가 NaN이 될 테니 dropna()로 제거합니다. \n",
    "temp_user_data = ratings['user_id'].map(user_to_idx.get).dropna()\n",
    "if len(temp_user_data) == len(ratings):   # 모든 row가 정상적으로 인덱싱되었다면\n",
    "    print('user_id column indexing OK!!')\n",
    "    ratings['user_id'] = temp_user_data   # data['user_id']을 인덱싱된 Series로 교체해 줍니다. \n",
    "else:\n",
    "    print('user_id column indexing Fail!!')\n",
    "\n",
    "# artist_to_idx을 통해 artist 컬럼도 동일한 방식으로 인덱싱해 줍니다. \n",
    "temp_movie_data = ratings['title'].map(movie_to_idx.get).dropna()\n",
    "if len(temp_movie_data) == len(ratings):\n",
    "    print('movie_id column indexing OK!!')\n",
    "    ratings['movie_id'] = temp_movie_data\n",
    "else:\n",
    "    print('movie_id column indexing Fail!!')\n",
    "\n",
    "ratings"
   ]
  },
  {
   "cell_type": "code",
   "execution_count": 18,
   "id": "0b17b540",
   "metadata": {},
   "outputs": [],
   "source": [
    "from implicit.als import AlternatingLeastSquares\n",
    "import os\n",
    "import numpy as np"
   ]
  },
  {
   "cell_type": "code",
   "execution_count": 19,
   "id": "3c71550f",
   "metadata": {},
   "outputs": [
    {
     "data": {
      "text/plain": [
       "<6040x3633 sparse matrix of type '<class 'numpy.int64'>'\n",
       "\twith 836483 stored elements in Compressed Sparse Row format>"
      ]
     },
     "execution_count": 19,
     "metadata": {},
     "output_type": "execute_result"
    }
   ],
   "source": [
    "# csr_matrix\n",
    "from scipy.sparse import csr_matrix\n",
    "\n",
    "num_user = ratings['user_id'].nunique()\n",
    "num_movie = ratings['movie_id'].nunique()\n",
    "\n",
    "csr_data = csr_matrix((ratings.counts, (ratings.user_id, ratings.movie_id)), shape= (num_user, num_movie))\n",
    "csr_data"
   ]
  },
  {
   "cell_type": "code",
   "execution_count": 20,
   "id": "80f51a54",
   "metadata": {},
   "outputs": [],
   "source": [
    "# implicit 라이브러리에서 권장하고 있는 부분입니다. \n",
    "os.environ['OPENBLAS_NUM_THREADS']='1'\n",
    "os.environ['KMP_DUPLICATE_LIB_OK']='True'\n",
    "os.environ['MKL_NUM_THREADS']='1'\n",
    "\n",
    "# Implicit AlternatingLeastSquares 모델의 선언\n",
    "# 1. factors : 유저와 아이템의 벡터를 몇 차원으로 할 것인지\n",
    "# 2. regularization : 과적합을 방지하기 위해 정규화 값을 얼마나 사용할 것인지 \n",
    "# 3. use_gpu : GPU를 사용할 것인지 \n",
    "# 4. iterations : epochs와 같은 의미입니다.\n",
    "als_model = AlternatingLeastSquares(factors=100, regularization=0.01, use_gpu=False, iterations=15, dtype=np.float32)"
   ]
  },
  {
   "cell_type": "code",
   "execution_count": 21,
   "id": "8273ea65",
   "metadata": {},
   "outputs": [
    {
     "data": {
      "text/plain": [
       "<3633x6040 sparse matrix of type '<class 'numpy.int64'>'\n",
       "\twith 836483 stored elements in Compressed Sparse Column format>"
      ]
     },
     "execution_count": 21,
     "metadata": {},
     "output_type": "execute_result"
    }
   ],
   "source": [
    "# als 모델은 input으로 (item X user 꼴의 matrix를 받기 때문에 Transpose해줍니다.)\n",
    "csr_data_transpose = csr_data.T\n",
    "csr_data_transpose"
   ]
  },
  {
   "cell_type": "code",
   "execution_count": 22,
   "id": "d4d01ec5",
   "metadata": {},
   "outputs": [
    {
     "data": {
      "application/vnd.jupyter.widget-view+json": {
       "model_id": "50b7d6b82ec44ce182de86d3e696b385",
       "version_major": 2,
       "version_minor": 0
      },
      "text/plain": [
       "  0%|          | 0/15 [00:00<?, ?it/s]"
      ]
     },
     "metadata": {},
     "output_type": "display_data"
    }
   ],
   "source": [
    "# 모델 훈련\n",
    "als_model.fit(csr_data_transpose)"
   ]
  },
  {
   "cell_type": "code",
   "execution_count": 23,
   "id": "0e7ea591",
   "metadata": {},
   "outputs": [],
   "source": [
    "meissamatar, inception = user_to_idx['mino'], movie_to_idx['inception']\n",
    "meissamatar_vector, inception_vector = als_model.user_factors[meissamatar], als_model.item_factors[inception]"
   ]
  },
  {
   "cell_type": "code",
   "execution_count": 24,
   "id": "d7b41885",
   "metadata": {},
   "outputs": [
    {
     "data": {
      "text/plain": [
       "0.00033434454"
      ]
     },
     "execution_count": 24,
     "metadata": {},
     "output_type": "execute_result"
    }
   ],
   "source": [
    "# 내적하는 코드\n",
    "np.dot(meissamatar_vector, inception_vector)"
   ]
  },
  {
   "cell_type": "code",
   "execution_count": 25,
   "id": "d5f6eaf6",
   "metadata": {},
   "outputs": [
    {
     "data": {
      "text/plain": [
       "0.00017444883"
      ]
     },
     "execution_count": 25,
     "metadata": {},
     "output_type": "execute_result"
    }
   ],
   "source": [
    "getout = movie_to_idx['get out']\n",
    "getout_vector = als_model.item_factors[getout]\n",
    "np.dot(meissamatar_vector, getout_vector)"
   ]
  },
  {
   "cell_type": "code",
   "execution_count": 26,
   "id": "935881cc",
   "metadata": {},
   "outputs": [
    {
     "data": {
      "text/plain": [
       "[(3631, 1.0000001),\n",
       " (3629, 0.99565727),\n",
       " (3632, 0.9930147),\n",
       " (3630, 0.9929747),\n",
       " (3628, 0.9911064),\n",
       " (3575, 0.9747199),\n",
       " (3579, 0.97344255),\n",
       " (3576, 0.9720203),\n",
       " (3578, 0.9709173),\n",
       " (3583, 0.9705367),\n",
       " (3573, 0.970334),\n",
       " (3572, 0.97006625),\n",
       " (3580, 0.96991056),\n",
       " (3574, 0.96971935),\n",
       " (3577, 0.969381)]"
      ]
     },
     "execution_count": 26,
     "metadata": {},
     "output_type": "execute_result"
    }
   ],
   "source": [
    "# (id, 유사도 )\n",
    "favorite_movie = 'inception'\n",
    "movie_id = movie_to_idx[favorite_movie]\n",
    "similar_movie = als_model.similar_items(movie_id, N=15)\n",
    "similar_movie"
   ]
  },
  {
   "cell_type": "code",
   "execution_count": 27,
   "id": "6d4c482e",
   "metadata": {},
   "outputs": [
    {
     "data": {
      "text/plain": [
       "['inception',\n",
       " 'mission impossible',\n",
       " 'gravity',\n",
       " 'get out',\n",
       " 'minority report',\n",
       " \"Brother's Kiss, A (1997)\",\n",
       " 'Last of the High Kings, The (a.k.a. Summer Fling) (1996)',\n",
       " 'War at Home, The (1996)',\n",
       " 'Number Seventeen (1932)',\n",
       " 'Neon Bible, The (1995)',\n",
       " 'Male and Female (1919)',\n",
       " \"I Don't Want to Talk About It (De eso no se habla) (1993)\",\n",
       " \"Another Man's Poison (1952)\",\n",
       " 'Century (1993)',\n",
       " 'Daens (1992)']"
      ]
     },
     "execution_count": 27,
     "metadata": {},
     "output_type": "execute_result"
    }
   ],
   "source": [
    "#artist_to_idx 를 뒤집어, index로부터 artist 이름을 얻는 dict를 생성합니다. \n",
    "idx_to_movie = {v:k for k,v in movie_to_idx.items()}\n",
    "[idx_to_movie[i[0]] for i in similar_movie]"
   ]
  },
  {
   "cell_type": "code",
   "execution_count": 28,
   "id": "cdc55e42",
   "metadata": {},
   "outputs": [],
   "source": [
    "# 비슷한 영화 이름 검색 함수\n",
    "def get_similar_movie(movie_name: str):\n",
    "    movie_id = movie_to_idx[movie_name]\n",
    "    similar_movie = als_model.similar_items(movie_id)\n",
    "    similar_movie = [idx_to_movie[i[0]] for i in similar_movie]\n",
    "    return similar_movie"
   ]
  },
  {
   "cell_type": "code",
   "execution_count": 29,
   "id": "161dc75a",
   "metadata": {},
   "outputs": [
    {
     "data": {
      "text/plain": [
       "['get out',\n",
       " 'gravity',\n",
       " 'mission impossible',\n",
       " 'minority report',\n",
       " 'inception',\n",
       " \"Brother's Kiss, A (1997)\",\n",
       " 'Last of the High Kings, The (a.k.a. Summer Fling) (1996)',\n",
       " 'War at Home, The (1996)',\n",
       " 'Neon Bible, The (1995)',\n",
       " \"I Don't Want to Talk About It (De eso no se habla) (1993)\"]"
      ]
     },
     "execution_count": 29,
     "metadata": {},
     "output_type": "execute_result"
    }
   ],
   "source": [
    "get_similar_movie('get out')"
   ]
  },
  {
   "cell_type": "code",
   "execution_count": 30,
   "id": "a37c9028",
   "metadata": {},
   "outputs": [
    {
     "data": {
      "text/plain": [
       "[(126, 0.0055013974),\n",
       " (60, 0.0053397818),\n",
       " (2229, 0.0048343064),\n",
       " (232, 0.0045900573),\n",
       " (107, 0.004383673),\n",
       " (41, 0.004264715),\n",
       " (258, 0.004214205),\n",
       " (2381, 0.004163033),\n",
       " (2593, 0.004119696),\n",
       " (689, 0.0040744613),\n",
       " (707, 0.004047567),\n",
       " (3309, 0.0040117223),\n",
       " (1830, 0.0039538876),\n",
       " (2628, 0.00392361),\n",
       " (161, 0.0038668439),\n",
       " (2894, 0.0038426183),\n",
       " (2376, 0.003816321),\n",
       " (2609, 0.0037773724),\n",
       " (1695, 0.0037678487),\n",
       " (1154, 0.0037504584)]"
      ]
     },
     "execution_count": 30,
     "metadata": {},
     "output_type": "execute_result"
    }
   ],
   "source": [
    "user = user_to_idx['mino']\n",
    "# recommend에서는 user*item CSR Matrix를 받습니다.\n",
    "movie_recommended = als_model.recommend(user, csr_data, N=20, filter_already_liked_items=True)\n",
    "movie_recommended"
   ]
  },
  {
   "cell_type": "code",
   "execution_count": 31,
   "id": "e2052100",
   "metadata": {},
   "outputs": [
    {
     "data": {
      "text/plain": [
       "['Shakespeare in Love (1998)',\n",
       " 'Star Wars: Episode I - The Phantom Menace (1999)',\n",
       " 'Thieves (Voleurs, Les) (1996)',\n",
       " 'Beautiful Thing (1996)',\n",
       " 'Jurassic Park (1993)',\n",
       " 'Rain Man (1988)',\n",
       " 'Wild Reeds (1994)',\n",
       " 'Open Your Eyes (Abre los ojos) (1997)',\n",
       " 'My Favorite Season (1993)',\n",
       " 'Anne Frank Remembered (1995)',\n",
       " 'Sting, The (1973)',\n",
       " 'Hollow Reed (1996)',\n",
       " 'Return of the Fly (1959)',\n",
       " 'Get Real (1998)',\n",
       " 'Graduate, The (1967)',\n",
       " 'When Night Is Falling (1995)',\n",
       " 'Xiu Xiu: The Sent-Down Girl (Tian yu) (1998)',\n",
       " 'Great White Hype, The (1996)',\n",
       " 'Messenger: The Story of Joan of Arc, The (1999)',\n",
       " 'Blue Sky (1994)']"
      ]
     },
     "execution_count": 31,
     "metadata": {},
     "output_type": "execute_result"
    }
   ],
   "source": [
    "[idx_to_movie[i[0]] for i in movie_recommended]"
   ]
  },
  {
   "cell_type": "markdown",
   "id": "e37030f5",
   "metadata": {},
   "source": [
    "# 회고\n",
    "\n",
    "요즘 여러 플랫폼에서 기본적으로 사용하고 있는 추천 시스템을 사용해볼 수 있어서 좋았다.\n",
    "\n",
    "또 csr matrix라는 처음 접해봤는데,\n",
    "\n",
    "이런 방법으로 낭비되는 메모리를 줄일 수 있다는게 신기했다."
   ]
  },
  {
   "cell_type": "code",
   "execution_count": null,
   "id": "fbaa36c2",
   "metadata": {},
   "outputs": [],
   "source": []
  }
 ],
 "metadata": {
  "kernelspec": {
   "display_name": "Python 3 (ipykernel)",
   "language": "python",
   "name": "python3"
  },
  "language_info": {
   "codemirror_mode": {
    "name": "ipython",
    "version": 3
   },
   "file_extension": ".py",
   "mimetype": "text/x-python",
   "name": "python",
   "nbconvert_exporter": "python",
   "pygments_lexer": "ipython3",
   "version": "3.9.7"
  }
 },
 "nbformat": 4,
 "nbformat_minor": 5
}

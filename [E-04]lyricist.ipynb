{
 "cells": [
  {
   "cell_type": "markdown",
   "id": "85ef1ee3",
   "metadata": {},
   "source": [
    "# 필요한 모듈 및 데이터 오픈"
   ]
  },
  {
   "cell_type": "code",
   "execution_count": 1,
   "id": "c065e158",
   "metadata": {},
   "outputs": [
    {
     "name": "stdout",
     "output_type": "stream",
     "text": [
      "데이터 크기: 187088\n",
      "Examples:\n",
      " [\"Now I've heard there was a secret chord\", 'That David played, and it pleased the Lord', \"But you don't really care for music, do you?\"]\n"
     ]
    }
   ],
   "source": [
    "import glob\n",
    "import os\n",
    "import re \n",
    "import numpy as np\n",
    "import tensorflow as tf\n",
    "\n",
    "txt_file_path = os.getenv('HOME')+'/aiffel/lyricist/data/lyrics/*'\n",
    "\n",
    "txt_list = glob.glob(txt_file_path)\n",
    "\n",
    "raw_corpus = []\n",
    "\n",
    "# 여러개의 txt 파일을 모두 읽어서 raw_corpus 에 담습니다.\n",
    "for txt_file in txt_list:\n",
    "    with open(txt_file, \"r\") as f:\n",
    "        raw = f.read().splitlines()\n",
    "        raw_corpus.extend(raw) #extend(raw) : list끝에 raw의 모든 항목을 넣는다.(append()와 차이가 있음)\n",
    "\n",
    "print(\"데이터 크기:\", len(raw_corpus))\n",
    "print(\"Examples:\\n\", raw_corpus[:3])"
   ]
  },
  {
   "cell_type": "markdown",
   "id": "bf756da2",
   "metadata": {},
   "source": [
    "# 데이터 전처리"
   ]
  },
  {
   "cell_type": "code",
   "execution_count": 2,
   "id": "d5bfcd66",
   "metadata": {},
   "outputs": [
    {
     "name": "stdout",
     "output_type": "stream",
     "text": [
      "Now I've heard there was a secret chord\n",
      "That David played, and it pleased the Lord\n",
      "But you don't really care for music, do you?\n",
      "It goes like this\n",
      "The fourth, the fifth\n",
      "The minor fall, the major lift\n",
      "The baffled king composing Hallelujah Hallelujah\n",
      "Hallelujah\n",
      "Hallelujah\n",
      "Hallelujah Your faith was strong but you needed proof\n"
     ]
    }
   ],
   "source": [
    "for idx, sentence in enumerate(raw_corpus):\n",
    "    if len(sentence) == 0: continue   # 길이가 0인 문장은 건너뜁니다.\n",
    "#    if sentence[-1] == \":\": continue  # 문장의 끝이 : 인 문장은 건너뜁니다.\n",
    "\n",
    "    if idx > 9: break   # 일단 문장 10개만 확인해 볼 겁니다.\n",
    "        \n",
    "    print(sentence)"
   ]
  },
  {
   "cell_type": "code",
   "execution_count": 3,
   "id": "ee92f33b",
   "metadata": {},
   "outputs": [],
   "source": [
    "def preprocess_sentence(sentence):\n",
    "    sentence = sentence.lower().strip() \n",
    "    sentence = re.sub(r\"([?.!,¿])\", r\" \\1 \", sentence) \n",
    "    sentence = re.sub(r'[\" \"]+', \" \", sentence) \n",
    "    sentence = re.sub(r\"[^a-zA-Z?.!,¿]+\", \" \", sentence) \n",
    "    sentence = sentence.strip() \n",
    "    sentence = '<start> ' + sentence + ' <end>' \n",
    "    return sentence"
   ]
  },
  {
   "cell_type": "code",
   "execution_count": 4,
   "id": "97b53b4e",
   "metadata": {},
   "outputs": [
    {
     "data": {
      "text/plain": [
       "['<start> now i ve heard there was a secret chord <end>',\n",
       " '<start> that david played , and it pleased the lord <end>',\n",
       " '<start> but you don t really care for music , do you ? <end>',\n",
       " '<start> it goes like this <end>',\n",
       " '<start> the fourth , the fifth <end>',\n",
       " '<start> the minor fall , the major lift <end>',\n",
       " '<start> the baffled king composing hallelujah hallelujah <end>',\n",
       " '<start> hallelujah <end>',\n",
       " '<start> hallelujah <end>',\n",
       " '<start> hallelujah your faith was strong but you needed proof <end>']"
      ]
     },
     "execution_count": 4,
     "metadata": {},
     "output_type": "execute_result"
    }
   ],
   "source": [
    "corpus = []\n",
    "\n",
    "for sentence in raw_corpus:\n",
    "    if len(sentence) == 0: continue\n",
    "    if sentence[-1] == \":\": continue\n",
    "    \n",
    "    preprocessed_sentence = preprocess_sentence(sentence)\n",
    "    corpus.append(preprocessed_sentence)\n",
    "        \n",
    "corpus[:10]"
   ]
  },
  {
   "cell_type": "markdown",
   "id": "78585f98",
   "metadata": {},
   "source": [
    "# 토큰화"
   ]
  },
  {
   "cell_type": "code",
   "execution_count": 5,
   "id": "8e858a3c",
   "metadata": {},
   "outputs": [
    {
     "name": "stdout",
     "output_type": "stream",
     "text": [
      "[[   2   50    5 ...    0    0    0]\n",
      " [   2   17 2639 ...    0    0    0]\n",
      " [   2   36    7 ...   43    3    0]\n",
      " ...\n",
      " [   5   22    9 ...   10 1013    3]\n",
      " [  37   15 9049 ...  877  647    3]\n",
      " [   2    7   34 ...    0    0    0]] <keras_preprocessing.text.Tokenizer object at 0x7fc7ac0ed100>\n"
     ]
    }
   ],
   "source": [
    "def tokenize(corpus):\n",
    "\n",
    "    tokenizer = tf.keras.preprocessing.text.Tokenizer(\n",
    "        num_words=12000, \n",
    "        filters=' ',\n",
    "        oov_token=\"<unk>\",\n",
    "        \n",
    "    )\n",
    "    # corpus를 이용해 tokenizer 내부의 단어장을 완성합니다\n",
    "    tokenizer.fit_on_texts(corpus)\n",
    "    # 준비한 tokenizer를 이용해 corpus를 Tensor로 변환합니다\n",
    "    tensor = tokenizer.texts_to_sequences(corpus)   \n",
    "    # 입력 데이터의 시퀀스 길이를 일정하게 맞춰줍니다\n",
    "    # 만약 시퀀스가 짧다면 문장 뒤에 패딩을 붙여 길이를 맞춰줍니다.\n",
    "    # 문장 앞에 패딩을 붙여 길이를 맞추고 싶다면 padding='pre'를 사용합니다\n",
    "    tensor = tf.keras.preprocessing.sequence.pad_sequences(tensor,maxlen = 15,padding='post')  \n",
    "    \n",
    "    print(tensor,tokenizer)\n",
    "    return tensor, tokenizer\n",
    "\n",
    "tensor, tokenizer = tokenize(corpus)"
   ]
  },
  {
   "cell_type": "code",
   "execution_count": 6,
   "id": "c3aeabcb",
   "metadata": {},
   "outputs": [
    {
     "name": "stdout",
     "output_type": "stream",
     "text": [
      "[[   2   50    5   91  297   65   57    9  969 6042]\n",
      " [   2   17 2639  873    4    8   11 6043    6  329]\n",
      " [   2   36    7   37   15  164  282   28  299    4]]\n"
     ]
    }
   ],
   "source": [
    "print(tensor[:3, :10])"
   ]
  },
  {
   "cell_type": "code",
   "execution_count": 7,
   "id": "5308470e",
   "metadata": {},
   "outputs": [
    {
     "name": "stdout",
     "output_type": "stream",
     "text": [
      "1 : <unk>\n",
      "2 : <start>\n",
      "3 : <end>\n",
      "4 : ,\n",
      "5 : i\n",
      "6 : the\n",
      "7 : you\n",
      "8 : and\n",
      "9 : a\n",
      "10 : to\n"
     ]
    }
   ],
   "source": [
    "for idx in tokenizer.index_word:\n",
    "    print(idx, \":\", tokenizer.index_word[idx])\n",
    "\n",
    "    if idx >= 10: break"
   ]
  },
  {
   "cell_type": "code",
   "execution_count": 8,
   "id": "83a55db1",
   "metadata": {},
   "outputs": [
    {
     "name": "stdout",
     "output_type": "stream",
     "text": [
      "[   2   50    5   91  297   65   57    9  969 6042    3    0    0    0]\n",
      "[  50    5   91  297   65   57    9  969 6042    3    0    0    0    0]\n"
     ]
    }
   ],
   "source": [
    "# tensor에서 마지막 토큰을 잘라내서 소스 문장을 생성합니다\n",
    "src_input = tensor[:,:-1]  \n",
    "# tensor에서 <start>를 잘라내서 타겟 문장을 생성합니다.\n",
    "tgt_input = tensor[:, 1:]    \n",
    "\n",
    "print(src_input[0])\n",
    "print(tgt_input[0])"
   ]
  },
  {
   "cell_type": "markdown",
   "id": "fe4c8ed8",
   "metadata": {},
   "source": [
    "# 데이터셋 생성"
   ]
  },
  {
   "cell_type": "code",
   "execution_count": 9,
   "id": "233b5046",
   "metadata": {},
   "outputs": [],
   "source": [
    "from sklearn.model_selection import train_test_split\n",
    "\n",
    "enc_train, enc_val, dec_train, dec_val = train_test_split(src_input, tgt_input, test_size= 0.2)"
   ]
  },
  {
   "cell_type": "code",
   "execution_count": 10,
   "id": "3ae2314e",
   "metadata": {},
   "outputs": [
    {
     "name": "stdout",
     "output_type": "stream",
     "text": [
      "Source Train: (140599, 14)\n",
      "Target Train: (140599, 14)\n"
     ]
    }
   ],
   "source": [
    "print(\"Source Train:\", enc_train.shape)\n",
    "print(\"Target Train:\", dec_train.shape)"
   ]
  },
  {
   "cell_type": "code",
   "execution_count": 11,
   "id": "e3beeaaf",
   "metadata": {},
   "outputs": [
    {
     "data": {
      "text/plain": [
       "<BatchDataset shapes: ((256, 14), (256, 14)), types: (tf.int32, tf.int32)>"
      ]
     },
     "execution_count": 11,
     "metadata": {},
     "output_type": "execute_result"
    }
   ],
   "source": [
    "BUFFER_SIZE = len(src_input)\n",
    "BATCH_SIZE = 256\n",
    "steps_per_epoch = len(src_input) // BATCH_SIZE\n",
    "\n",
    "vocab_size= tokenizer.num_words + 1   \n",
    "\n",
    "# 준비한 데이터 소스로부터 데이터셋을 만듭니다\n",
    "# 데이터셋에 대해서는 아래 문서를 참고하세요\n",
    "# 자세히 알아둘수록 도움이 많이 되는 중요한 문서입니다\n",
    "# https://www.tensorflow.org/api_docs/python/tf/data/Dataset\n",
    "dataset = tf.data.Dataset.from_tensor_slices((src_input, tgt_input))\n",
    "dataset = dataset.shuffle(BUFFER_SIZE)\n",
    "dataset = dataset.batch(BATCH_SIZE, drop_remainder=True)\n",
    "dataset"
   ]
  },
  {
   "cell_type": "markdown",
   "id": "2990ca61",
   "metadata": {},
   "source": [
    "# 모델 생성"
   ]
  },
  {
   "cell_type": "code",
   "execution_count": 12,
   "id": "29412f90",
   "metadata": {},
   "outputs": [],
   "source": [
    "class TextGenerator(tf.keras.Model):\n",
    "    def __init__(self, vocab_size, embedding_size, hidden_size):\n",
    "        super().__init__()\n",
    "        \n",
    "        self.embedding = tf.keras.layers.Embedding(vocab_size, embedding_size)\n",
    "        self.rnn_1 = tf.keras.layers.LSTM(hidden_size, return_sequences=True)\n",
    "        self.rnn_2 = tf.keras.layers.LSTM(hidden_size, return_sequences=True)\n",
    "        self.linear = tf.keras.layers.Dense(vocab_size)\n",
    "        \n",
    "    def call(self, x):\n",
    "        out = self.embedding(x)\n",
    "        out = self.rnn_1(out)\n",
    "        out = self.rnn_2(out)\n",
    "        out = self.linear(out)\n",
    "        \n",
    "        return out\n",
    "    \n",
    "embedding_size = 256\n",
    "hidden_size = 1024\n",
    "lyricist = TextGenerator(tokenizer.num_words + 1, embedding_size , hidden_size)"
   ]
  },
  {
   "cell_type": "markdown",
   "id": "06886ec8",
   "metadata": {},
   "source": [
    "# 모델 빌드\n",
    "    \n",
    "    - Sequentail 모델이나, Funtional API는 선언형(Define-and-Run)이므로 모델을 정의&인스턴스화한 단계에서 계산 그래프가 정적으로 구축된다. 하지만 Subclassing 모델은 명령형(Define-by-Run)이므로 실행한 단계에서 계산 그래프가 동적으로 구축된다.\n",
    "      \n",
    "    - 즉, 추론을 1 회 시행하여 계산 그래프를 동적으로 실행시켜주어야 한다.\n",
    "    \n",
    "    - 추론을 1회 시행히키지 않을 경우:\n",
    "    \"This model has not yet been built. Build the model first by calling `build()` or calling `fit()` with some data, or specify an `input_shape` argument in the first layer(s) for automatic build.\"\n",
    "    이런 오류가 뜬다.\n",
    "      "
   ]
  },
  {
   "cell_type": "code",
   "execution_count": 13,
   "id": "dc756819",
   "metadata": {},
   "outputs": [
    {
     "data": {
      "text/plain": [
       "<tf.Tensor: shape=(256, 14, 12001), dtype=float32, numpy=\n",
       "array([[[ 2.90532655e-04, -2.95985719e-05,  1.02315775e-04, ...,\n",
       "         -1.98390073e-04,  1.11468966e-04, -1.51840490e-04],\n",
       "        [ 4.45410900e-04,  2.41103087e-04,  8.71573357e-05, ...,\n",
       "         -3.80338111e-04,  1.03581748e-04, -3.42435349e-04],\n",
       "        [ 2.70226330e-04,  5.49512217e-04, -1.35619048e-04, ...,\n",
       "         -5.85307018e-04,  1.69601844e-04, -3.21467844e-04],\n",
       "        ...,\n",
       "        [ 7.03768979e-04,  2.24478907e-04, -1.34904403e-03, ...,\n",
       "          3.27190210e-05,  2.18600369e-04, -5.60812186e-04],\n",
       "        [ 3.16325459e-04, -3.56032615e-05, -1.36740785e-03, ...,\n",
       "          4.22212906e-04, -9.67391770e-06, -6.41252787e-04],\n",
       "        [ 2.44763534e-04, -2.56535539e-04, -1.16847444e-03, ...,\n",
       "          6.93315582e-04,  2.84483067e-05, -4.97869274e-04]],\n",
       "\n",
       "       [[-9.41432663e-05, -2.53691396e-04, -1.35166949e-04, ...,\n",
       "         -2.35344196e-04, -3.88072694e-05,  1.88157705e-04],\n",
       "        [ 1.60468917e-04, -4.93358821e-04,  9.43401683e-05, ...,\n",
       "         -4.11565008e-04, -1.07176375e-05,  4.21229081e-04],\n",
       "        [ 4.35507973e-04, -6.21812069e-04,  4.35626949e-04, ...,\n",
       "         -2.90427386e-04,  1.87657752e-05,  5.88431081e-04],\n",
       "        ...,\n",
       "        [ 2.13395990e-03, -3.68950277e-04,  1.25995558e-03, ...,\n",
       "         -4.70377854e-05,  9.19053709e-05,  3.02560366e-04],\n",
       "        [ 2.07672548e-03, -4.87074547e-04,  9.79462056e-04, ...,\n",
       "          1.82507851e-04, -1.00598787e-04,  2.55041203e-04],\n",
       "        [ 1.62372412e-03, -5.20489470e-04,  6.23447180e-04, ...,\n",
       "          4.22731828e-04, -2.93724879e-04,  1.27989682e-04]],\n",
       "\n",
       "       [[ 1.67775026e-04,  1.21207529e-04, -1.16349274e-05, ...,\n",
       "         -9.06959613e-05,  1.53278343e-05,  9.21726460e-05],\n",
       "        [ 1.53679561e-04, -2.64304208e-06, -4.10733192e-05, ...,\n",
       "          2.58166119e-06,  1.47951232e-05,  6.98927033e-05],\n",
       "        [ 2.43144954e-04,  8.07289398e-05, -1.06653191e-04, ...,\n",
       "         -6.92552931e-05, -2.69333977e-04,  2.78228981e-05],\n",
       "        ...,\n",
       "        [-1.05016690e-03, -1.00816530e-03, -3.75669362e-04, ...,\n",
       "          6.77774427e-04,  1.01698679e-03,  1.00673758e-03],\n",
       "        [-9.62006859e-04, -9.52512026e-04, -1.18517710e-04, ...,\n",
       "          6.03411812e-04,  8.78461462e-04,  1.39905128e-03],\n",
       "        [-8.39763437e-04, -8.71203083e-04,  1.40260585e-04, ...,\n",
       "          5.52398851e-04,  6.65167288e-04,  1.75211497e-03]],\n",
       "\n",
       "       ...,\n",
       "\n",
       "       [[ 1.67775026e-04,  1.21207529e-04, -1.16349274e-05, ...,\n",
       "         -9.06959613e-05,  1.53278343e-05,  9.21726460e-05],\n",
       "        [ 1.43210651e-04,  9.84551662e-05, -2.20720340e-05, ...,\n",
       "          1.94570785e-05,  1.18831034e-04,  1.32959249e-04],\n",
       "        [ 4.05747305e-05, -8.55994440e-05, -1.70791172e-04, ...,\n",
       "          8.66024566e-05, -4.87496036e-05,  3.41908337e-04],\n",
       "        ...,\n",
       "        [ 5.94675876e-05, -6.04481320e-05,  6.92091766e-04, ...,\n",
       "         -2.32017665e-05, -5.15772845e-04,  2.13298667e-03],\n",
       "        [ 2.13945532e-05, -5.90475029e-05,  7.97124987e-04, ...,\n",
       "          2.85850092e-05, -5.53465390e-04,  2.43067462e-03],\n",
       "        [ 2.68478907e-05, -7.25715581e-05,  8.94305645e-04, ...,\n",
       "          1.11270325e-04, -6.37717894e-04,  2.66191922e-03]],\n",
       "\n",
       "       [[ 1.67775026e-04,  1.21207529e-04, -1.16349274e-05, ...,\n",
       "         -9.06959613e-05,  1.53278343e-05,  9.21726460e-05],\n",
       "        [ 4.22367710e-04,  1.32058689e-04, -2.04133539e-05, ...,\n",
       "         -1.72124448e-04, -1.20141893e-04,  9.61033584e-05],\n",
       "        [ 7.63823977e-04,  3.88797431e-04, -4.50193445e-04, ...,\n",
       "         -3.25937057e-04, -1.37997427e-04,  8.35178216e-05],\n",
       "        ...,\n",
       "        [ 4.51875152e-04, -3.76012304e-06,  3.72355396e-04, ...,\n",
       "         -5.44722192e-04, -3.22490741e-05,  2.07865587e-03],\n",
       "        [ 4.38902091e-04, -4.83242220e-05,  5.25030540e-04, ...,\n",
       "         -4.13647038e-04, -2.79602129e-04,  2.31881696e-03],\n",
       "        [ 4.61495249e-04, -8.93083561e-05,  6.66349486e-04, ...,\n",
       "         -2.75725586e-04, -5.25962503e-04,  2.49860855e-03]],\n",
       "\n",
       "       [[ 1.67775026e-04,  1.21207529e-04, -1.16349274e-05, ...,\n",
       "         -9.06959613e-05,  1.53278343e-05,  9.21726460e-05],\n",
       "        [ 2.24045114e-04,  1.37672832e-04, -9.45651409e-05, ...,\n",
       "         -2.93185149e-04, -9.98305986e-05,  8.48095005e-05],\n",
       "        [ 4.38611460e-05,  1.45433951e-04, -3.43761727e-04, ...,\n",
       "         -7.27735867e-04, -4.13376947e-05,  1.07543798e-04],\n",
       "        ...,\n",
       "        [ 8.11115839e-04, -8.07519595e-04,  8.46506096e-04, ...,\n",
       "         -9.54877178e-04, -2.96409184e-04,  1.22573460e-03],\n",
       "        [ 6.57854718e-04, -1.08589721e-03,  9.00512736e-04, ...,\n",
       "         -7.39448704e-04, -2.69151758e-04,  1.31078262e-03],\n",
       "        [ 4.69086488e-04, -1.21591939e-03,  9.65496176e-04, ...,\n",
       "         -7.31279841e-04, -1.73948283e-04,  1.57437788e-03]]],\n",
       "      dtype=float32)>"
      ]
     },
     "execution_count": 13,
     "metadata": {},
     "output_type": "execute_result"
    }
   ],
   "source": [
    "for src_sample, tgt_sample in dataset.take(1): break\n",
    "\n",
    "# 한 배치만 불러온 데이터를 모델에 넣어봅니다\n",
    "lyricist(src_sample)"
   ]
  },
  {
   "cell_type": "code",
   "execution_count": 14,
   "id": "cf306e4e",
   "metadata": {},
   "outputs": [
    {
     "name": "stdout",
     "output_type": "stream",
     "text": [
      "Model: \"text_generator\"\n",
      "_________________________________________________________________\n",
      "Layer (type)                 Output Shape              Param #   \n",
      "=================================================================\n",
      "embedding (Embedding)        multiple                  3072256   \n",
      "_________________________________________________________________\n",
      "lstm (LSTM)                  multiple                  5246976   \n",
      "_________________________________________________________________\n",
      "lstm_1 (LSTM)                multiple                  8392704   \n",
      "_________________________________________________________________\n",
      "dense (Dense)                multiple                  12301025  \n",
      "=================================================================\n",
      "Total params: 29,012,961\n",
      "Trainable params: 29,012,961\n",
      "Non-trainable params: 0\n",
      "_________________________________________________________________\n"
     ]
    }
   ],
   "source": [
    "lyricist.summary()"
   ]
  },
  {
   "cell_type": "markdown",
   "id": "72de4aa1",
   "metadata": {},
   "source": [
    "# 모델 훈련"
   ]
  },
  {
   "cell_type": "code",
   "execution_count": 15,
   "id": "57ed63b7",
   "metadata": {},
   "outputs": [
    {
     "name": "stdout",
     "output_type": "stream",
     "text": [
      "Epoch 1/10\n",
      "686/686 [==============================] - 123s 176ms/step - loss: 3.6010\n",
      "Epoch 2/10\n",
      "686/686 [==============================] - 125s 182ms/step - loss: 3.1181\n",
      "Epoch 3/10\n",
      "686/686 [==============================] - 125s 182ms/step - loss: 2.9171\n",
      "Epoch 4/10\n",
      "686/686 [==============================] - 125s 182ms/step - loss: 2.7621\n",
      "Epoch 5/10\n",
      "686/686 [==============================] - 125s 182ms/step - loss: 2.6274\n",
      "Epoch 6/10\n",
      "686/686 [==============================] - 125s 182ms/step - loss: 2.5061\n",
      "Epoch 7/10\n",
      "686/686 [==============================] - 125s 182ms/step - loss: 2.3947\n",
      "Epoch 8/10\n",
      "686/686 [==============================] - 125s 182ms/step - loss: 2.2914\n",
      "Epoch 9/10\n",
      "686/686 [==============================] - 125s 182ms/step - loss: 2.1939\n",
      "Epoch 10/10\n",
      "686/686 [==============================] - 125s 182ms/step - loss: 2.1016\n"
     ]
    },
    {
     "data": {
      "text/plain": [
       "<keras.callbacks.History at 0x7fc69c0c4550>"
      ]
     },
     "execution_count": 15,
     "metadata": {},
     "output_type": "execute_result"
    }
   ],
   "source": [
    "optimizer = tf.keras.optimizers.Adam()\n",
    "loss = tf.keras.losses.SparseCategoricalCrossentropy(\n",
    "    from_logits=True,\n",
    "    reduction='none'\n",
    ")\n",
    "\n",
    "lyricist.compile(loss=loss, optimizer=optimizer)\n",
    "lyricist.fit(dataset, epochs=10)"
   ]
  },
  {
   "cell_type": "markdown",
   "id": "24967398",
   "metadata": {},
   "source": [
    "# 결과 출력"
   ]
  },
  {
   "cell_type": "code",
   "execution_count": 21,
   "id": "c21b0ed0",
   "metadata": {},
   "outputs": [],
   "source": [
    "def generate_text(lyricist, tokenizer, init_sentence=\"<start>\", max_len=15):\n",
    "    # 테스트를 위해서 입력받은 init_sentence도 텐서로 변환합니다\n",
    "    test_input = tokenizer.texts_to_sequences([init_sentence])\n",
    "    test_tensor = tf.convert_to_tensor(test_input, dtype=tf.int64)\n",
    "    end_token = tokenizer.word_index[\"<end>\"]\n",
    "\n",
    "    # 단어 하나씩 예측해 문장을 만듭니다\n",
    "    #    1. 입력받은 문장의 텐서를 입력합니다\n",
    "    #    2. 예측된 값 중 가장 높은 확률인 word index를 뽑아냅니다\n",
    "    #    3. 2에서 예측된 word index를 문장 뒤에 붙입니다\n",
    "    #    4. 모델이 <end>를 예측했거나, max_len에 도달했다면 문장 생성을 마칩니다\n",
    "    while True:\n",
    "        # 1\n",
    "        predict = lyricist(test_tensor) \n",
    "        # 2\n",
    "        predict_word = tf.argmax(tf.nn.softmax(predict, axis=-1), axis=-1)[:, -1] \n",
    "        # 3 \n",
    "        test_tensor = tf.concat([test_tensor, tf.expand_dims(predict_word, axis=0)], axis=-1)\n",
    "        # 4\n",
    "        if predict_word.numpy()[0] == end_token: break\n",
    "        if test_tensor.shape[1] >= max_len: break\n",
    "\n",
    "    generated = \"\"\n",
    "    # tokenizer를 이용해 word index를 단어로 하나씩 변환합니다 \n",
    "    for word_index in test_tensor[0].numpy():\n",
    "        generated += tokenizer.index_word[word_index] + \" \"\n",
    "\n",
    "    return generated"
   ]
  },
  {
   "cell_type": "code",
   "execution_count": 23,
   "id": "eae8d048",
   "metadata": {},
   "outputs": [
    {
     "data": {
      "text/plain": [
       "'<start> i love you so much <end> '"
      ]
     },
     "execution_count": 23,
     "metadata": {},
     "output_type": "execute_result"
    }
   ],
   "source": [
    "generate_text(lyricist, tokenizer, init_sentence=\"<start> i love\", max_len=20)"
   ]
  },
  {
   "cell_type": "markdown",
   "id": "18a00296",
   "metadata": {},
   "source": [
    "# 회고"
   ]
  },
  {
   "cell_type": "markdown",
   "id": "64a53cb4",
   "metadata": {},
   "source": [
    "처음 인공지능을 배울때는 모델이라는 말을 많이 들어서 모델에 대해서만 열심히 봤었다.\n",
    "\n",
    "그래서 코드들을 볼 때도 모델 부분을 가장 흥미롭게 봤었다.\n",
    "\n",
    "지금도 매일매일 새로운 모델이 나오는 것으로 알고 있고,\n",
    "\n",
    "내가 아는 모델보단 들어보지도 못한 모델이 훨씬 많은 것도 알고 있지만\n",
    "\n",
    "이제는 적어도 코드로 모델을 봐도 어느정도 아 이런걸 썻구나 하는 생각은 든다.\n",
    "\n",
    "이제 모델에 대한 코드가 조금 보여서 같은 모델로 성능을 올리기 위해 어떤 방법이 있을지 생각해보다가\n",
    "\n",
    "데이터 전처리가 정말 중요하다는 생각에 이번 Exploration에서는 데이터 전처리에 대한 부분을 유심히 봤다.\n",
    "\n",
    "오.. 하나도 이해 못했다,,,ㅠㅅㅠ\n",
    "\n",
    "노드에 다양한 데이터에 대한 전처리기법들이 많으니 다시 보면서 복습해야겠다."
   ]
  }
 ],
 "metadata": {
  "kernelspec": {
   "display_name": "Python 3 (ipykernel)",
   "language": "python",
   "name": "python3"
  },
  "language_info": {
   "codemirror_mode": {
    "name": "ipython",
    "version": 3
   },
   "file_extension": ".py",
   "mimetype": "text/x-python",
   "name": "python",
   "nbconvert_exporter": "python",
   "pygments_lexer": "ipython3",
   "version": "3.9.7"
  }
 },
 "nbformat": 4,
 "nbformat_minor": 5
}
